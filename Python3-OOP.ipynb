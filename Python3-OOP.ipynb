{
 "cells": [
  {
   "cell_type": "code",
   "execution_count": 1,
   "metadata": {},
   "outputs": [],
   "source": [
    "### this is starting from in between the class - \n",
    "# initial was written in oneNote with some images - which can't be added here. But most of it is in below only"
   ]
  },
  {
   "cell_type": "code",
   "execution_count": 4,
   "metadata": {},
   "outputs": [],
   "source": [
    "color = \"red\"\n",
    "class Car:\n",
    "    color = \"white\"\n",
    "    \n",
    "    def __init__(self):\n",
    "        color = \"blue\"\n",
    "    def drive(self):\n",
    "        print(color)\n",
    "        \n",
    "        "
   ]
  },
  {
   "cell_type": "code",
   "execution_count": 5,
   "metadata": {},
   "outputs": [
    {
     "data": {
      "text/plain": [
       "'white'"
      ]
     },
     "execution_count": 5,
     "metadata": {},
     "output_type": "execute_result"
    }
   ],
   "source": [
    "c = Car()\n",
    "c.color"
   ]
  },
  {
   "cell_type": "code",
   "execution_count": 6,
   "metadata": {},
   "outputs": [
    {
     "data": {
      "text/plain": [
       "'\\nitems of a collection are not technically \"identifiers\"\\nthough they might represent reference to objects\\n\\n'"
      ]
     },
     "execution_count": 6,
     "metadata": {},
     "output_type": "execute_result"
    }
   ],
   "source": [
    "# attributes do not have scope and are always visible public and must be explicitly using the '.'\n",
    "# specifier following Attributes/Method resolution rule/MRO rults\n",
    "\n",
    "'''\n",
    "items of a collection are not technically \"identifiers\"\n",
    "though they might represent reference to objects\n",
    "\n",
    "'''"
   ]
  },
  {
   "cell_type": "code",
   "execution_count": 7,
   "metadata": {},
   "outputs": [
    {
     "data": {
      "text/plain": [
       "'\\nFact 7\\n\\n\\n'"
      ]
     },
     "execution_count": 7,
     "metadata": {},
     "output_type": "execute_result"
    }
   ],
   "source": [
    "'''\n",
    "Fact 7\n",
    "global variables are techically attributes of __main__ module.\n",
    "import test_module\n",
    "test_module.a = 10\n",
    "test_module.name  =John\n",
    "\n",
    "default namespace is __main__\n",
    "but when we load this python program as a namespace in another program it will be loaded as that name test_module.\n",
    "\n",
    "'''\n",
    "\n"
   ]
  },
  {
   "cell_type": "code",
   "execution_count": 10,
   "metadata": {},
   "outputs": [
    {
     "ename": "NameError",
     "evalue": "name '__main__' is not defined",
     "output_type": "error",
     "traceback": [
      "\u001b[1;31m---------------------------------------------------------------------------\u001b[0m",
      "\u001b[1;31mNameError\u001b[0m                                 Traceback (most recent call last)",
      "\u001b[1;32m<ipython-input-10-29c6d500a056>\u001b[0m in \u001b[0;36m<module>\u001b[1;34m()\u001b[0m\n\u001b[0;32m      1\u001b[0m \u001b[0mname\u001b[0m \u001b[1;33m=\u001b[0m \u001b[1;34m\"John\"\u001b[0m\u001b[1;33m\u001b[0m\u001b[0m\n\u001b[1;32m----> 2\u001b[1;33m \u001b[0mprint\u001b[0m\u001b[1;33m(\u001b[0m\u001b[0m__main__\u001b[0m\u001b[1;33m.\u001b[0m\u001b[0mname\u001b[0m\u001b[1;33m)\u001b[0m\u001b[1;33m\u001b[0m\u001b[0m\n\u001b[0m",
      "\u001b[1;31mNameError\u001b[0m: name '__main__' is not defined"
     ]
    }
   ],
   "source": [
    "name = \"John\"\n",
    "print(__main__.name)\n"
   ]
  },
  {
   "cell_type": "code",
   "execution_count": 12,
   "metadata": {},
   "outputs": [
    {
     "name": "stdout",
     "output_type": "stream",
     "text": [
      "John 10 67\n"
     ]
    }
   ],
   "source": [
    "name =\"John\"\n",
    "a = 10\n",
    "value = 67\n",
    "print(name, a, value)"
   ]
  },
  {
   "cell_type": "code",
   "execution_count": 15,
   "metadata": {},
   "outputs": [],
   "source": [
    "# We do below so that the python code is not executed when we import called as import test_module\n",
    "# if __name__ == '__main__':\n",
    "#       print(name, a, value)\n",
    "# **modularity**\n",
    "# All other modules loaded using the \"import\" statement will have all of their global definitions visible \n",
    "# directly as 'module attributes'\n",
    "\n",
    "## Thus module will act as a namespace!!"
   ]
  },
  {
   "cell_type": "code",
   "execution_count": 19,
   "metadata": {},
   "outputs": [
    {
     "data": {
      "text/plain": [
       "['',\n",
       " 'c:\\\\python36-32\\\\python36.zip',\n",
       " 'c:\\\\python36-32\\\\DLLs',\n",
       " 'c:\\\\python36-32\\\\lib',\n",
       " 'c:\\\\python36-32',\n",
       " 'c:\\\\python36-32\\\\lib\\\\site-packages',\n",
       " 'c:\\\\python36-32\\\\lib\\\\site-packages\\\\IPython\\\\extensions',\n",
       " 'C:\\\\Users\\\\rharjani\\\\.ipython']"
      ]
     },
     "execution_count": 19,
     "metadata": {},
     "output_type": "execute_result"
    }
   ],
   "source": [
    "import sys\n",
    "\n",
    "# python exposes a lot of function under namespace sys.\n",
    "# such modules are also called as builtin modules.\n",
    "# 1. first checked as builtin modules.\n",
    "# 2. Then it will check in PYTHONPATH in the order mentioned. See output below\n",
    "sys.path\n",
    "\n",
    "\n"
   ]
  },
  {
   "cell_type": "code",
   "execution_count": 20,
   "metadata": {},
   "outputs": [
    {
     "ename": "ModuleNotFoundError",
     "evalue": "No module named 'test_module'",
     "output_type": "error",
     "traceback": [
      "\u001b[1;31m---------------------------------------------------------------------------\u001b[0m",
      "\u001b[1;31mModuleNotFoundError\u001b[0m                       Traceback (most recent call last)",
      "\u001b[1;32m<ipython-input-20-607499aebc55>\u001b[0m in \u001b[0;36m<module>\u001b[1;34m()\u001b[0m\n\u001b[0;32m      1\u001b[0m \u001b[1;31m# example of module Import error\u001b[0m\u001b[1;33m\u001b[0m\u001b[1;33m\u001b[0m\u001b[0m\n\u001b[1;32m----> 2\u001b[1;33m \u001b[1;32mimport\u001b[0m \u001b[0mtest_module\u001b[0m\u001b[1;33m\u001b[0m\u001b[0m\n\u001b[0m",
      "\u001b[1;31mModuleNotFoundError\u001b[0m: No module named 'test_module'"
     ]
    }
   ],
   "source": [
    "# example of module Import error\n",
    "import test_module"
   ]
  },
  {
   "cell_type": "code",
   "execution_count": 21,
   "metadata": {},
   "outputs": [],
   "source": [
    "# Don't use the module named whcih are built in moduels liek socket.py or sys.py, cmd.py, time.py\n",
    "# So sys.path.append can be done - hacky bad design.\n",
    "# or any python module which you are already using.\n",
    "\n",
    "## So to load the module from some custom folder. Right way to do so is to create an environment variable.\n",
    "#  export PYTHONPATH=C:/Users/**\n",
    "# put this in your project.\n",
    "# python dont uses internet name convention like com.test.logger\n",
    "\n",
    "# python module can be based on a :-\n",
    "#     1. file\n",
    "#     2. Package.\n",
    "#     3. C librarly module (DLL/extension)\n",
    "# when we call import test_module all module attributes are now loaded in your program.\n",
    "\n",
    "# import test_module\n",
    "# id(test_module)\n",
    "# 1234\n",
    "# del test_module\n",
    "# test_module -> this will give NameError\n",
    "# import test_module\n",
    "# -> this time it will not print/execute again.\n",
    "# id(test_module)\n",
    "# 1234 \n",
    "# because the module was still referenced  by module cache loader.\n",
    "# print(test_module.name) ==> John\n",
    "# test_module.name = \"Sam\"\n",
    "# test_module.name -> \"Sam\"\n",
    "# del test_module\n",
    "# since it is still kept loaded in module cache so we should reload the modules then.\n",
    "# import test_module\n",
    "# test_module.name -> \"Sam\"\n",
    "\n",
    "\n",
    "# import importlib\n",
    "# importlib.reload(test_module) -> this will reload the module.\n",
    "# test_module.name --> \"John\"\n",
    "\n",
    "#"
   ]
  },
  {
   "cell_type": "code",
   "execution_count": 26,
   "metadata": {},
   "outputs": [
    {
     "name": "stdout",
     "output_type": "stream",
     "text": [
      "30\n"
     ]
    }
   ],
   "source": [
    "#### Fact 8:\n",
    "a = 10\n",
    "b = 20\n",
    "c = a + b            # this code is compiled as below\n",
    "\n",
    "print(c)"
   ]
  },
  {
   "cell_type": "code",
   "execution_count": 28,
   "metadata": {},
   "outputs": [
    {
     "name": "stdout",
     "output_type": "stream",
     "text": [
      "30\n"
     ]
    }
   ],
   "source": [
    "c = a.__add__(b)\n",
    "print(c)"
   ]
  },
  {
   "cell_type": "code",
   "execution_count": 29,
   "metadata": {},
   "outputs": [
    {
     "name": "stdout",
     "output_type": "stream",
     "text": [
      "30\n"
     ]
    }
   ],
   "source": [
    "c = int.__add__(a, b)\n",
    "print(c)"
   ]
  },
  {
   "cell_type": "code",
   "execution_count": 31,
   "metadata": {},
   "outputs": [
    {
     "name": "stdout",
     "output_type": "stream",
     "text": [
      "10\n"
     ]
    }
   ],
   "source": [
    "a = [10, 20, 30]\n",
    "b = a[0]                 # so a right hand side expression is evaluated like __getitem__\n",
    "print(b)"
   ]
  },
  {
   "cell_type": "code",
   "execution_count": 33,
   "metadata": {},
   "outputs": [
    {
     "name": "stdout",
     "output_type": "stream",
     "text": [
      "10\n"
     ]
    }
   ],
   "source": [
    "b = a.__getitem__(0)      # so a right hand side expression is evaluated like __getitem__\n",
    "print(b)"
   ]
  },
  {
   "cell_type": "code",
   "execution_count": 37,
   "metadata": {},
   "outputs": [
    {
     "name": "stdout",
     "output_type": "stream",
     "text": [
      "[100, 20, 30]\n"
     ]
    }
   ],
   "source": [
    "a[0] = 100                  # this type of variable expression is changed to __setitem__\n",
    "print(a)"
   ]
  },
  {
   "cell_type": "code",
   "execution_count": 36,
   "metadata": {},
   "outputs": [
    {
     "name": "stdout",
     "output_type": "stream",
     "text": [
      "[100, 20, 30]\n"
     ]
    }
   ],
   "source": [
    "a.__setitem__(0, 100)      # this type of variable expression is changed to __setitem__\n",
    "print(a)"
   ]
  },
  {
   "cell_type": "code",
   "execution_count": 40,
   "metadata": {},
   "outputs": [
    {
     "name": "stdout",
     "output_type": "stream",
     "text": [
      "10\n",
      "<class 'int'>\n",
      "['__abs__', '__add__', '__and__', '__bool__', '__ceil__', '__class__', '__delattr__', '__dir__', '__divmod__', '__doc__', '__eq__', '__float__', '__floor__', '__floordiv__', '__format__', '__ge__', '__getattribute__', '__getnewargs__', '__gt__', '__hash__', '__index__', '__init__', '__init_subclass__', '__int__', '__invert__', '__le__', '__lshift__', '__lt__', '__mod__', '__mul__', '__ne__', '__neg__', '__new__', '__or__', '__pos__', '__pow__', '__radd__', '__rand__', '__rdivmod__', '__reduce__', '__reduce_ex__', '__repr__', '__rfloordiv__', '__rlshift__', '__rmod__', '__rmul__', '__ror__', '__round__', '__rpow__', '__rrshift__', '__rshift__', '__rsub__', '__rtruediv__', '__rxor__', '__setattr__', '__sizeof__', '__str__', '__sub__', '__subclasshook__', '__truediv__', '__trunc__', '__xor__', 'bit_length', 'conjugate', 'denominator', 'from_bytes', 'imag', 'numerator', 'real', 'to_bytes']\n"
     ]
    }
   ],
   "source": [
    "# In python ducktyping.\n",
    "# whenever we want to interact with object we should check their attributes methods.\n",
    "## we can do +, [], etc on this.\n",
    "# python defines some protocol methods.\n",
    "\n",
    "# python data types - int, float, (long in python2), \n",
    "a = 10\n",
    "print(a)\n",
    "print(type(a))\n",
    "print(dir(a))"
   ]
  },
  {
   "cell_type": "code",
   "execution_count": 42,
   "metadata": {},
   "outputs": [],
   "source": [
    "# IF we define a class with all above method attributes then my class will behave as int."
   ]
  },
  {
   "cell_type": "code",
   "execution_count": 43,
   "metadata": {},
   "outputs": [
    {
     "name": "stdout",
     "output_type": "stream",
     "text": [
      "11\n"
     ]
    }
   ],
   "source": [
    "# Every collection must have __len__, iterable attribute.\n",
    "a = \"hello World\"\n",
    "print(len(a))\n"
   ]
  },
  {
   "cell_type": "code",
   "execution_count": 44,
   "metadata": {},
   "outputs": [
    {
     "name": "stdout",
     "output_type": "stream",
     "text": [
      "11\n"
     ]
    }
   ],
   "source": [
    "print(a.__len__())"
   ]
  },
  {
   "cell_type": "code",
   "execution_count": 46,
   "metadata": {},
   "outputs": [],
   "source": [
    "# if we have a marker and someone says write, we will directly write. \n",
    "# we need not say marker.write()\n",
    "# len(a) -> will directy call a.__len__() in python so need not call explicitly."
   ]
  },
  {
   "cell_type": "code",
   "execution_count": 47,
   "metadata": {},
   "outputs": [
    {
     "name": "stdout",
     "output_type": "stream",
     "text": [
      "{'aaa': 10, 'bbb': 20}\n"
     ]
    }
   ],
   "source": [
    "c = {'aaa': 10, 'bbb': 20}\n",
    "print(c)"
   ]
  },
  {
   "cell_type": "code",
   "execution_count": 48,
   "metadata": {},
   "outputs": [],
   "source": [
    "# 3 kinds of collections in python. Every collection should fall under below 3 categories.\n",
    "# 1. Sequence. (these are indexable) |||| -> markers\n",
    "# 2. Set (these are not indexable -> these are just collections)\n",
    "# 3. Mapping."
   ]
  },
  {
   "cell_type": "code",
   "execution_count": 49,
   "metadata": {},
   "outputs": [
    {
     "name": "stdout",
     "output_type": "stream",
     "text": [
      "<class 'list'>\n"
     ]
    }
   ],
   "source": [
    "a = [10, 20, 30, 40]\n",
    "print(type(a))"
   ]
  },
  {
   "cell_type": "code",
   "execution_count": 50,
   "metadata": {},
   "outputs": [
    {
     "name": "stdout",
     "output_type": "stream",
     "text": [
      "{40, 10, 20, 30}\n"
     ]
    }
   ],
   "source": [
    "b = {10, 20, 30, 40}        # order is not guranteed here. IT's a set type of collection\n",
    "print(b)"
   ]
  },
  {
   "cell_type": "code",
   "execution_count": 52,
   "metadata": {},
   "outputs": [
    {
     "ename": "TypeError",
     "evalue": "'set' object does not support indexing",
     "output_type": "error",
     "traceback": [
      "\u001b[1;31m---------------------------------------------------------------------------\u001b[0m",
      "\u001b[1;31mTypeError\u001b[0m                                 Traceback (most recent call last)",
      "\u001b[1;32m<ipython-input-52-5713b1a97698>\u001b[0m in \u001b[0;36m<module>\u001b[1;34m()\u001b[0m\n\u001b[1;32m----> 1\u001b[1;33m \u001b[0mb\u001b[0m\u001b[1;33m[\u001b[0m\u001b[1;36m0\u001b[0m\u001b[1;33m]\u001b[0m        \u001b[1;31m# this is not valid since no indexing (__getitem__, __setitem__)\u001b[0m\u001b[1;33m\u001b[0m\u001b[0m\n\u001b[0m",
      "\u001b[1;31mTypeError\u001b[0m: 'set' object does not support indexing"
     ]
    }
   ],
   "source": [
    "b[0]        # this is not valid since no indexing (__getitem__, __setitem__)"
   ]
  },
  {
   "cell_type": "code",
   "execution_count": 53,
   "metadata": {},
   "outputs": [
    {
     "data": {
      "text/plain": [
       "['__and__',\n",
       " '__class__',\n",
       " '__contains__',\n",
       " '__delattr__',\n",
       " '__dir__',\n",
       " '__doc__',\n",
       " '__eq__',\n",
       " '__format__',\n",
       " '__ge__',\n",
       " '__getattribute__',\n",
       " '__gt__',\n",
       " '__hash__',\n",
       " '__iand__',\n",
       " '__init__',\n",
       " '__init_subclass__',\n",
       " '__ior__',\n",
       " '__isub__',\n",
       " '__iter__',\n",
       " '__ixor__',\n",
       " '__le__',\n",
       " '__len__',\n",
       " '__lt__',\n",
       " '__ne__',\n",
       " '__new__',\n",
       " '__or__',\n",
       " '__rand__',\n",
       " '__reduce__',\n",
       " '__reduce_ex__',\n",
       " '__repr__',\n",
       " '__ror__',\n",
       " '__rsub__',\n",
       " '__rxor__',\n",
       " '__setattr__',\n",
       " '__sizeof__',\n",
       " '__str__',\n",
       " '__sub__',\n",
       " '__subclasshook__',\n",
       " '__xor__',\n",
       " 'add',\n",
       " 'clear',\n",
       " 'copy',\n",
       " 'difference',\n",
       " 'difference_update',\n",
       " 'discard',\n",
       " 'intersection',\n",
       " 'intersection_update',\n",
       " 'isdisjoint',\n",
       " 'issubset',\n",
       " 'issuperset',\n",
       " 'pop',\n",
       " 'remove',\n",
       " 'symmetric_difference',\n",
       " 'symmetric_difference_update',\n",
       " 'union',\n",
       " 'update']"
      ]
     },
     "execution_count": 53,
     "metadata": {},
     "output_type": "execute_result"
    }
   ],
   "source": [
    "dir(b)"
   ]
  },
  {
   "cell_type": "code",
   "execution_count": 54,
   "metadata": {},
   "outputs": [
    {
     "data": {
      "text/plain": [
       "{10, 20, 30, 40}"
      ]
     },
     "execution_count": 54,
     "metadata": {},
     "output_type": "execute_result"
    }
   ],
   "source": [
    "b"
   ]
  },
  {
   "cell_type": "code",
   "execution_count": 55,
   "metadata": {},
   "outputs": [
    {
     "name": "stdout",
     "output_type": "stream",
     "text": [
      "40\n",
      "10\n",
      "20\n",
      "30\n"
     ]
    }
   ],
   "source": [
    "for v in b: print(v)"
   ]
  },
  {
   "cell_type": "code",
   "execution_count": 57,
   "metadata": {},
   "outputs": [],
   "source": [
    "## Mapping is extension to a set. The keys of dictionary says mapping. \n",
    "# dict[key] will give a value."
   ]
  },
  {
   "cell_type": "code",
   "execution_count": 58,
   "metadata": {},
   "outputs": [
    {
     "data": {
      "text/plain": [
       "True"
      ]
     },
     "execution_count": 58,
     "metadata": {},
     "output_type": "execute_result"
    }
   ],
   "source": [
    "# In an collection we us \"in\" operator. -> this calls __contains__ method attribute of a.\n",
    "# a = {10, 20, 30} ->  or a = set((10, 20, 30)) -> we are creating an object of class set here.\n",
    "# a = 10 -> a is an object of type int now.\n",
    "10 in a\n"
   ]
  },
  {
   "cell_type": "code",
   "execution_count": 59,
   "metadata": {},
   "outputs": [
    {
     "data": {
      "text/plain": [
       "[10, 20, 30, 40]"
      ]
     },
     "execution_count": 59,
     "metadata": {},
     "output_type": "execute_result"
    }
   ],
   "source": [
    "a"
   ]
  },
  {
   "cell_type": "code",
   "execution_count": 61,
   "metadata": {},
   "outputs": [],
   "source": [
    "# in operator calls for __contains__ -> it is very likely a collection."
   ]
  },
  {
   "cell_type": "code",
   "execution_count": 62,
   "metadata": {},
   "outputs": [
    {
     "data": {
      "text/plain": [
       "{10, 20, 30, 40}"
      ]
     },
     "execution_count": 62,
     "metadata": {},
     "output_type": "execute_result"
    }
   ],
   "source": [
    "x = set(a)\n",
    "x"
   ]
  },
  {
   "cell_type": "code",
   "execution_count": 68,
   "metadata": {},
   "outputs": [],
   "source": [
    "# if you have the collection \"set\" -> then it is useful while checking a element is present in a set.\n",
    "a = list(range(10000000))"
   ]
  },
  {
   "cell_type": "code",
   "execution_count": 69,
   "metadata": {},
   "outputs": [],
   "source": [
    "s = set(a)"
   ]
  },
  {
   "cell_type": "code",
   "execution_count": 70,
   "metadata": {},
   "outputs": [
    {
     "data": {
      "text/plain": [
       "10000000"
      ]
     },
     "execution_count": 70,
     "metadata": {},
     "output_type": "execute_result"
    }
   ],
   "source": [
    "len(a)"
   ]
  },
  {
   "cell_type": "code",
   "execution_count": 73,
   "metadata": {},
   "outputs": [
    {
     "name": "stdout",
     "output_type": "stream",
     "text": [
      "20.7 ms ± 1.9 ms per loop (mean ± std. dev. of 7 runs, 10 loops each)\n",
      "None\n"
     ]
    }
   ],
   "source": [
    "ans = %timeit 999999 in a \n",
    "print(ans)"
   ]
  },
  {
   "cell_type": "code",
   "execution_count": 75,
   "metadata": {},
   "outputs": [
    {
     "name": "stdout",
     "output_type": "stream",
     "text": [
      "118 ns ± 8.14 ns per loop (mean ± std. dev. of 7 runs, 10000000 loops each)\n",
      "None\n"
     ]
    }
   ],
   "source": [
    "ans = %timeit 999999 in s\n",
    "print(ans)"
   ]
  },
  {
   "cell_type": "code",
   "execution_count": 78,
   "metadata": {},
   "outputs": [],
   "source": [
    "# In sets it will create a hashtable and will save the value.\n",
    "# so to access the value in set it is very fast.\n",
    "# but in sequence/list it will be O(n)\n",
    "# in set it is fast almost O(1)\n",
    "\n",
    "## Designing data structure is important that we want a list or set."
   ]
  },
  {
   "cell_type": "code",
   "execution_count": 215,
   "metadata": {},
   "outputs": [
    {
     "name": "stdout",
     "output_type": "stream",
     "text": [
      "[55, 66, 22, 33, 56, 78]\n",
      "[43, 45, 88, 99, 100, 1, 23, 56, 55]\n"
     ]
    }
   ],
   "source": [
    "a = [55, 66, 22, 33, 56, 78]\n",
    "b = [43, 45, 88, 99, 100, 1, 23, 56, 55]\n",
    "\n",
    "print(a)\n",
    "\n",
    "print(b)\n"
   ]
  },
  {
   "cell_type": "code",
   "execution_count": 216,
   "metadata": {},
   "outputs": [],
   "source": [
    "a = set(a)\n",
    "b = set(b)\n",
    "\n"
   ]
  },
  {
   "cell_type": "code",
   "execution_count": 217,
   "metadata": {},
   "outputs": [
    {
     "data": {
      "text/plain": [
       "{1, 22, 23, 33, 43, 45, 55, 56, 66, 78, 88, 99, 100}"
      ]
     },
     "execution_count": 217,
     "metadata": {},
     "output_type": "execute_result"
    }
   ],
   "source": [
    "a | b       # ( a or b)"
   ]
  },
  {
   "cell_type": "code",
   "execution_count": 87,
   "metadata": {},
   "outputs": [
    {
     "data": {
      "text/plain": [
       "False"
      ]
     },
     "execution_count": 87,
     "metadata": {},
     "output_type": "execute_result"
    }
   ],
   "source": [
    "a < b  # a is a subset of b ?"
   ]
  },
  {
   "cell_type": "code",
   "execution_count": 91,
   "metadata": {},
   "outputs": [
    {
     "data": {
      "text/plain": [
       "True"
      ]
     },
     "execution_count": 91,
     "metadata": {},
     "output_type": "execute_result"
    }
   ],
   "source": [
    "c = set({55, 66})\n",
    "c < a"
   ]
  },
  {
   "cell_type": "code",
   "execution_count": 93,
   "metadata": {},
   "outputs": [
    {
     "name": "stdout",
     "output_type": "stream",
     "text": [
      "90456536\n",
      "93023392\n"
     ]
    }
   ],
   "source": [
    "## Hashable objects \n",
    "a = \"hello World\"\n",
    "print(id(a))\n",
    "b = \"hello World\"\n",
    "print(id(b))\n"
   ]
  },
  {
   "cell_type": "code",
   "execution_count": 94,
   "metadata": {},
   "outputs": [
    {
     "data": {
      "text/plain": [
       "True"
      ]
     },
     "execution_count": 94,
     "metadata": {},
     "output_type": "execute_result"
    }
   ],
   "source": [
    "a == b"
   ]
  },
  {
   "cell_type": "code",
   "execution_count": 97,
   "metadata": {},
   "outputs": [
    {
     "name": "stdout",
     "output_type": "stream",
     "text": [
      "1276302312\n",
      "1276302312\n"
     ]
    }
   ],
   "source": [
    "## In python a comparison of string is used by hashing. so it is constant time.\n",
    "print(hash(a))\n",
    "print(hash(b))\n"
   ]
  },
  {
   "cell_type": "code",
   "execution_count": 99,
   "metadata": {},
   "outputs": [
    {
     "name": "stdout",
     "output_type": "stream",
     "text": [
      "93021352\n",
      "93021352\n"
     ]
    }
   ],
   "source": [
    "## In python if no special characters are used then it will check if the string is already there.\n",
    "\n",
    "s1 = \"hello_world\"\n",
    "s2 = \"hello_world\"\n",
    "print(id(s1))\n",
    "print(id(s2))"
   ]
  },
  {
   "cell_type": "code",
   "execution_count": 101,
   "metadata": {},
   "outputs": [],
   "source": [
    "## Strings are Hashable objects\n",
    "# For hashable objects should be immutable.\n",
    "# a tuple is a immutable object.\n",
    "# So when we are computing a checksum, we assume the object value will not changes since it is hashed and stored a hash value.\n",
    "# a set cannot contain a set -> because set is mutable. But elements inside set should be hashable. \n",
    "# any number/string is hashable but list is not mutable.\n",
    "# set -> union/intersection/ etc these all need immutable data type."
   ]
  },
  {
   "cell_type": "code",
   "execution_count": 105,
   "metadata": {},
   "outputs": [
    {
     "name": "stdout",
     "output_type": "stream",
     "text": [
      "<class 'set'>\n"
     ]
    }
   ],
   "source": [
    "print(type(s))"
   ]
  },
  {
   "cell_type": "code",
   "execution_count": 107,
   "metadata": {},
   "outputs": [],
   "source": [
    "## Fact 8\n",
    "# python support Object overloading. \n",
    "# but python you cannot invent new operators."
   ]
  },
  {
   "cell_type": "code",
   "execution_count": 124,
   "metadata": {},
   "outputs": [
    {
     "data": {
      "text/plain": [
       "4"
      ]
     },
     "execution_count": 124,
     "metadata": {},
     "output_type": "execute_result"
    }
   ],
   "source": [
    "# Fact 9 \n",
    "# functions and classes are first class object.\n",
    "# calling a function executes it's body in a  new \"frame\".\n",
    "# whether object is callable -> we need to check if __call__ method is defined or not.\n",
    "def square(x): return x*x\n",
    "\n",
    "square(2)"
   ]
  },
  {
   "cell_type": "code",
   "execution_count": 125,
   "metadata": {},
   "outputs": [
    {
     "data": {
      "text/plain": [
       "4"
      ]
     },
     "execution_count": 125,
     "metadata": {},
     "output_type": "execute_result"
    }
   ],
   "source": [
    "square.__call__(2)"
   ]
  },
  {
   "cell_type": "code",
   "execution_count": 126,
   "metadata": {},
   "outputs": [
    {
     "data": {
      "text/plain": [
       "['__annotations__',\n",
       " '__call__',\n",
       " '__class__',\n",
       " '__closure__',\n",
       " '__code__',\n",
       " '__defaults__',\n",
       " '__delattr__',\n",
       " '__dict__',\n",
       " '__dir__',\n",
       " '__doc__',\n",
       " '__eq__',\n",
       " '__format__',\n",
       " '__ge__',\n",
       " '__get__',\n",
       " '__getattribute__',\n",
       " '__globals__',\n",
       " '__gt__',\n",
       " '__hash__',\n",
       " '__init__',\n",
       " '__init_subclass__',\n",
       " '__kwdefaults__',\n",
       " '__le__',\n",
       " '__lt__',\n",
       " '__module__',\n",
       " '__name__',\n",
       " '__ne__',\n",
       " '__new__',\n",
       " '__qualname__',\n",
       " '__reduce__',\n",
       " '__reduce_ex__',\n",
       " '__repr__',\n",
       " '__setattr__',\n",
       " '__sizeof__',\n",
       " '__str__',\n",
       " '__subclasshook__']"
      ]
     },
     "execution_count": 126,
     "metadata": {},
     "output_type": "execute_result"
    }
   ],
   "source": [
    "# when we call a function object using __call__ method -> a new frame object will be constructed and called.\n",
    "# every function runs on behalf of \"Frame\" object. when function completes -> frame object destroys.\n",
    "dir(square)"
   ]
  },
  {
   "cell_type": "code",
   "execution_count": 133,
   "metadata": {},
   "outputs": [
    {
     "name": "stdout",
     "output_type": "stream",
     "text": [
      "<function new fucn at 0x04C941E0>\n"
     ]
    }
   ],
   "source": [
    "square.__qualname__       ## this will actually tells what is the name of the function\n",
    "print(square)"
   ]
  },
  {
   "cell_type": "code",
   "execution_count": 129,
   "metadata": {},
   "outputs": [
    {
     "data": {
      "text/plain": [
       "<function __main__.square>"
      ]
     },
     "execution_count": 129,
     "metadata": {},
     "output_type": "execute_result"
    }
   ],
   "source": [
    "a = square\n",
    "a"
   ]
  },
  {
   "cell_type": "code",
   "execution_count": 130,
   "metadata": {},
   "outputs": [],
   "source": [
    "a.__qualname__ = \"new fucn\""
   ]
  },
  {
   "cell_type": "code",
   "execution_count": 131,
   "metadata": {},
   "outputs": [
    {
     "data": {
      "text/plain": [
       "<function __main__.new fucn>"
      ]
     },
     "execution_count": 131,
     "metadata": {},
     "output_type": "execute_result"
    }
   ],
   "source": [
    "a"
   ]
  },
  {
   "cell_type": "code",
   "execution_count": 132,
   "metadata": {},
   "outputs": [
    {
     "data": {
      "text/plain": [
       "<function __main__.new fucn>"
      ]
     },
     "execution_count": 132,
     "metadata": {},
     "output_type": "execute_result"
    }
   ],
   "source": [
    "square"
   ]
  },
  {
   "cell_type": "code",
   "execution_count": 134,
   "metadata": {},
   "outputs": [
    {
     "data": {
      "text/plain": [
       "('x',)"
      ]
     },
     "execution_count": 134,
     "metadata": {},
     "output_type": "execute_result"
    }
   ],
   "source": [
    "square.__code__.co_varnames    ## functions variable used."
   ]
  },
  {
   "cell_type": "code",
   "execution_count": 135,
   "metadata": {},
   "outputs": [
    {
     "data": {
      "text/plain": [
       "b'|\\x00|\\x00\\x14\\x00S\\x00'"
      ]
     },
     "execution_count": 135,
     "metadata": {},
     "output_type": "execute_result"
    }
   ],
   "source": [
    "square.__code__.co_code       ## function byte code"
   ]
  },
  {
   "cell_type": "code",
   "execution_count": 137,
   "metadata": {},
   "outputs": [
    {
     "name": "stdout",
     "output_type": "stream",
     "text": [
      "  5           0 LOAD_FAST                0 (x)\n",
      "              2 LOAD_FAST                0 (x)\n",
      "              4 BINARY_MULTIPLY\n",
      "              6 RETURN_VALUE\n"
     ]
    }
   ],
   "source": [
    "import dis\n",
    "dis.disassemble(square.__code__)"
   ]
  },
  {
   "cell_type": "code",
   "execution_count": 138,
   "metadata": {},
   "outputs": [],
   "source": [
    "# calling a class instantiates (i.e. creates) a new object inheriting all attributes of the class"
   ]
  },
  {
   "cell_type": "code",
   "execution_count": 143,
   "metadata": {},
   "outputs": [
    {
     "data": {
      "text/plain": [
       "<__main__.Car at 0x67845f0>"
      ]
     },
     "execution_count": 143,
     "metadata": {},
     "output_type": "execute_result"
    }
   ],
   "source": [
    "# Attributes of the object are stored in a dictionary as keys.\n",
    "\n",
    "class Car:\n",
    "    pass\n",
    "\n",
    "c = Car()\n",
    "c.name = \"honda\"\n",
    "c.color = \"red\"\n",
    "c\n"
   ]
  },
  {
   "cell_type": "code",
   "execution_count": 144,
   "metadata": {},
   "outputs": [
    {
     "data": {
      "text/plain": [
       "'red'"
      ]
     },
     "execution_count": 144,
     "metadata": {},
     "output_type": "execute_result"
    }
   ],
   "source": [
    "c.color"
   ]
  },
  {
   "cell_type": "code",
   "execution_count": 145,
   "metadata": {},
   "outputs": [
    {
     "data": {
      "text/plain": [
       "'honda'"
      ]
     },
     "execution_count": 145,
     "metadata": {},
     "output_type": "execute_result"
    }
   ],
   "source": [
    "c.name"
   ]
  },
  {
   "cell_type": "code",
   "execution_count": 146,
   "metadata": {},
   "outputs": [],
   "source": [
    "Car.owner = \"sam\""
   ]
  },
  {
   "cell_type": "code",
   "execution_count": 147,
   "metadata": {},
   "outputs": [
    {
     "data": {
      "text/plain": [
       "__main__.Car"
      ]
     },
     "execution_count": 147,
     "metadata": {},
     "output_type": "execute_result"
    }
   ],
   "source": [
    "Car"
   ]
  },
  {
   "cell_type": "code",
   "execution_count": 149,
   "metadata": {},
   "outputs": [
    {
     "data": {
      "text/plain": [
       "['__class__',\n",
       " '__delattr__',\n",
       " '__dict__',\n",
       " '__dir__',\n",
       " '__doc__',\n",
       " '__eq__',\n",
       " '__format__',\n",
       " '__ge__',\n",
       " '__getattribute__',\n",
       " '__gt__',\n",
       " '__hash__',\n",
       " '__init__',\n",
       " '__init_subclass__',\n",
       " '__le__',\n",
       " '__lt__',\n",
       " '__module__',\n",
       " '__ne__',\n",
       " '__new__',\n",
       " '__reduce__',\n",
       " '__reduce_ex__',\n",
       " '__repr__',\n",
       " '__setattr__',\n",
       " '__sizeof__',\n",
       " '__str__',\n",
       " '__subclasshook__',\n",
       " '__weakref__',\n",
       " 'owner']"
      ]
     },
     "execution_count": 149,
     "metadata": {},
     "output_type": "execute_result"
    }
   ],
   "source": [
    "dir(Car)"
   ]
  },
  {
   "cell_type": "code",
   "execution_count": 150,
   "metadata": {},
   "outputs": [
    {
     "data": {
      "text/plain": [
       "['__class__',\n",
       " '__delattr__',\n",
       " '__dict__',\n",
       " '__dir__',\n",
       " '__doc__',\n",
       " '__eq__',\n",
       " '__format__',\n",
       " '__ge__',\n",
       " '__getattribute__',\n",
       " '__gt__',\n",
       " '__hash__',\n",
       " '__init__',\n",
       " '__init_subclass__',\n",
       " '__le__',\n",
       " '__lt__',\n",
       " '__module__',\n",
       " '__ne__',\n",
       " '__new__',\n",
       " '__reduce__',\n",
       " '__reduce_ex__',\n",
       " '__repr__',\n",
       " '__setattr__',\n",
       " '__sizeof__',\n",
       " '__str__',\n",
       " '__subclasshook__',\n",
       " '__weakref__',\n",
       " 'color',\n",
       " 'name',\n",
       " 'owner']"
      ]
     },
     "execution_count": 150,
     "metadata": {},
     "output_type": "execute_result"
    }
   ],
   "source": [
    "dir(c)"
   ]
  },
  {
   "cell_type": "code",
   "execution_count": 151,
   "metadata": {},
   "outputs": [
    {
     "data": {
      "text/plain": [
       "'sam'"
      ]
     },
     "execution_count": 151,
     "metadata": {},
     "output_type": "execute_result"
    }
   ],
   "source": [
    "c.owner"
   ]
  },
  {
   "cell_type": "code",
   "execution_count": 153,
   "metadata": {},
   "outputs": [
    {
     "data": {
      "text/plain": [
       "'sam'"
      ]
     },
     "execution_count": 153,
     "metadata": {},
     "output_type": "execute_result"
    }
   ],
   "source": [
    "c.__dict__.get(\"owner\",  c.__class__.__dict__.get(\"owner\"))"
   ]
  },
  {
   "cell_type": "code",
   "execution_count": 155,
   "metadata": {},
   "outputs": [
    {
     "data": {
      "text/plain": [
       "{'color': 'red', 'name': 'honda'}"
      ]
     },
     "execution_count": 155,
     "metadata": {},
     "output_type": "execute_result"
    }
   ],
   "source": [
    "c.__dict__"
   ]
  },
  {
   "cell_type": "code",
   "execution_count": 157,
   "metadata": {},
   "outputs": [
    {
     "data": {
      "text/plain": [
       "mappingproxy({'__dict__': <attribute '__dict__' of 'Car' objects>,\n",
       "              '__doc__': None,\n",
       "              '__module__': '__main__',\n",
       "              '__weakref__': <attribute '__weakref__' of 'Car' objects>,\n",
       "              'owner': 'sam'})"
      ]
     },
     "execution_count": 157,
     "metadata": {},
     "output_type": "execute_result"
    }
   ],
   "source": [
    "Car.__dict__"
   ]
  },
  {
   "cell_type": "code",
   "execution_count": 159,
   "metadata": {},
   "outputs": [],
   "source": [
    "## Fact 11\n",
    "# if attributes object refer to data -> called as properties.\n",
    "# if atributes object refer to function -> called as "
   ]
  },
  {
   "cell_type": "code",
   "execution_count": 160,
   "metadata": {},
   "outputs": [
    {
     "data": {
      "text/plain": [
       "'3.6.0 (v3.6.0:41df79263a11, Dec 23 2016, 07:18:10) [MSC v.1900 32 bit (Intel)]'"
      ]
     },
     "execution_count": 160,
     "metadata": {},
     "output_type": "execute_result"
    }
   ],
   "source": [
    "# monkey patching ->  I can change/add/remove\n",
    "# what all can be monkey patches -> classes, function, instances, module => only this can be monkey patched\n",
    "# rest cannot be monkey patched in python.\n",
    "\n",
    "import sys\n",
    "sys.version"
   ]
  },
  {
   "cell_type": "code",
   "execution_count": 161,
   "metadata": {},
   "outputs": [],
   "source": [
    "# del sys.version -> so this is done in class.\n",
    "# python is a gun/rifle without a child lock."
   ]
  },
  {
   "cell_type": "code",
   "execution_count": 162,
   "metadata": {},
   "outputs": [],
   "source": [
    "class Car:\n",
    "    pass"
   ]
  },
  {
   "cell_type": "code",
   "execution_count": 163,
   "metadata": {},
   "outputs": [
    {
     "data": {
      "text/plain": [
       "__main__.Car"
      ]
     },
     "execution_count": 163,
     "metadata": {},
     "output_type": "execute_result"
    }
   ],
   "source": [
    "Car"
   ]
  },
  {
   "cell_type": "code",
   "execution_count": 164,
   "metadata": {},
   "outputs": [
    {
     "data": {
      "text/plain": [
       "['__class__',\n",
       " '__delattr__',\n",
       " '__dict__',\n",
       " '__dir__',\n",
       " '__doc__',\n",
       " '__eq__',\n",
       " '__format__',\n",
       " '__ge__',\n",
       " '__getattribute__',\n",
       " '__gt__',\n",
       " '__hash__',\n",
       " '__init__',\n",
       " '__init_subclass__',\n",
       " '__le__',\n",
       " '__lt__',\n",
       " '__module__',\n",
       " '__ne__',\n",
       " '__new__',\n",
       " '__reduce__',\n",
       " '__reduce_ex__',\n",
       " '__repr__',\n",
       " '__setattr__',\n",
       " '__sizeof__',\n",
       " '__str__',\n",
       " '__subclasshook__',\n",
       " '__weakref__']"
      ]
     },
     "execution_count": 164,
     "metadata": {},
     "output_type": "execute_result"
    }
   ],
   "source": [
    "dir(Car)"
   ]
  },
  {
   "cell_type": "code",
   "execution_count": 165,
   "metadata": {},
   "outputs": [],
   "source": [
    "# all above have inherited attributes from it's constructor"
   ]
  },
  {
   "cell_type": "code",
   "execution_count": 166,
   "metadata": {},
   "outputs": [
    {
     "data": {
      "text/plain": [
       "'Car'"
      ]
     },
     "execution_count": 166,
     "metadata": {},
     "output_type": "execute_result"
    }
   ],
   "source": [
    "Car.__name__"
   ]
  },
  {
   "cell_type": "code",
   "execution_count": 167,
   "metadata": {},
   "outputs": [
    {
     "data": {
      "text/plain": [
       "type"
      ]
     },
     "execution_count": 167,
     "metadata": {},
     "output_type": "execute_result"
    }
   ],
   "source": [
    "Car.__class__"
   ]
  },
  {
   "cell_type": "code",
   "execution_count": 168,
   "metadata": {},
   "outputs": [],
   "source": [
    "# meta programming is used only 1% of the time."
   ]
  },
  {
   "cell_type": "code",
   "execution_count": 169,
   "metadata": {},
   "outputs": [],
   "source": [
    "c1 = Car()\n",
    "c2 = Car()\n"
   ]
  },
  {
   "cell_type": "code",
   "execution_count": 170,
   "metadata": {},
   "outputs": [
    {
     "data": {
      "text/plain": [
       "<__main__.Car at 0x6714a90>"
      ]
     },
     "execution_count": 170,
     "metadata": {},
     "output_type": "execute_result"
    }
   ],
   "source": [
    "c1"
   ]
  },
  {
   "cell_type": "code",
   "execution_count": 171,
   "metadata": {},
   "outputs": [
    {
     "data": {
      "text/plain": [
       "<__main__.Car at 0x67145b0>"
      ]
     },
     "execution_count": 171,
     "metadata": {},
     "output_type": "execute_result"
    }
   ],
   "source": [
    "c2"
   ]
  },
  {
   "cell_type": "code",
   "execution_count": 172,
   "metadata": {},
   "outputs": [
    {
     "data": {
      "text/plain": [
       "['__class__',\n",
       " '__delattr__',\n",
       " '__dict__',\n",
       " '__dir__',\n",
       " '__doc__',\n",
       " '__eq__',\n",
       " '__format__',\n",
       " '__ge__',\n",
       " '__getattribute__',\n",
       " '__gt__',\n",
       " '__hash__',\n",
       " '__init__',\n",
       " '__init_subclass__',\n",
       " '__le__',\n",
       " '__lt__',\n",
       " '__module__',\n",
       " '__ne__',\n",
       " '__new__',\n",
       " '__reduce__',\n",
       " '__reduce_ex__',\n",
       " '__repr__',\n",
       " '__setattr__',\n",
       " '__sizeof__',\n",
       " '__str__',\n",
       " '__subclasshook__',\n",
       " '__weakref__']"
      ]
     },
     "execution_count": 172,
     "metadata": {},
     "output_type": "execute_result"
    }
   ],
   "source": [
    "dir(c1)"
   ]
  },
  {
   "cell_type": "code",
   "execution_count": 173,
   "metadata": {},
   "outputs": [
    {
     "data": {
      "text/plain": [
       "{}"
      ]
     },
     "execution_count": 173,
     "metadata": {},
     "output_type": "execute_result"
    }
   ],
   "source": [
    "c1.__dict__"
   ]
  },
  {
   "cell_type": "code",
   "execution_count": 174,
   "metadata": {},
   "outputs": [
    {
     "data": {
      "text/plain": [
       "mappingproxy({'__dict__': <attribute '__dict__' of 'Car' objects>,\n",
       "              '__doc__': None,\n",
       "              '__module__': '__main__',\n",
       "              '__weakref__': <attribute '__weakref__' of 'Car' objects>})"
      ]
     },
     "execution_count": 174,
     "metadata": {},
     "output_type": "execute_result"
    }
   ],
   "source": [
    "Car.__dict__"
   ]
  },
  {
   "cell_type": "code",
   "execution_count": 175,
   "metadata": {},
   "outputs": [],
   "source": [
    "Car.color = \"white\""
   ]
  },
  {
   "cell_type": "code",
   "execution_count": 176,
   "metadata": {},
   "outputs": [
    {
     "data": {
      "text/plain": [
       "'white'"
      ]
     },
     "execution_count": 176,
     "metadata": {},
     "output_type": "execute_result"
    }
   ],
   "source": [
    "c1.color"
   ]
  },
  {
   "cell_type": "code",
   "execution_count": 177,
   "metadata": {},
   "outputs": [
    {
     "data": {
      "text/plain": [
       "'white'"
      ]
     },
     "execution_count": 177,
     "metadata": {},
     "output_type": "execute_result"
    }
   ],
   "source": [
    "c2.color"
   ]
  },
  {
   "cell_type": "code",
   "execution_count": 178,
   "metadata": {},
   "outputs": [],
   "source": [
    "# Rule1 attributes are inherites  from class objects. \n",
    "# furst it checks the object dictionary then it goes to class attributes"
   ]
  },
  {
   "cell_type": "code",
   "execution_count": 179,
   "metadata": {},
   "outputs": [],
   "source": [
    "# monkey patching\n",
    "# here c1 is an object and has it's own memory. It is not a reference to the class. \n",
    "# so when we do c1.color it saves in it's own frame this new attribute named color -> now this will be accessed locally\n",
    "# and not from the class attribute 'color'\n",
    "c1.color = \"red\""
   ]
  },
  {
   "cell_type": "code",
   "execution_count": 180,
   "metadata": {},
   "outputs": [
    {
     "data": {
      "text/plain": [
       "'red'"
      ]
     },
     "execution_count": 180,
     "metadata": {},
     "output_type": "execute_result"
    }
   ],
   "source": [
    "c1.color"
   ]
  },
  {
   "cell_type": "code",
   "execution_count": 181,
   "metadata": {},
   "outputs": [
    {
     "data": {
      "text/plain": [
       "'white'"
      ]
     },
     "execution_count": 181,
     "metadata": {},
     "output_type": "execute_result"
    }
   ],
   "source": [
    "c2.color"
   ]
  },
  {
   "cell_type": "code",
   "execution_count": 182,
   "metadata": {},
   "outputs": [
    {
     "data": {
      "text/plain": [
       "'white'"
      ]
     },
     "execution_count": 182,
     "metadata": {},
     "output_type": "execute_result"
    }
   ],
   "source": [
    "Car.color"
   ]
  },
  {
   "cell_type": "code",
   "execution_count": 183,
   "metadata": {},
   "outputs": [],
   "source": [
    "c1.name = \"Honda\""
   ]
  },
  {
   "cell_type": "code",
   "execution_count": 184,
   "metadata": {},
   "outputs": [
    {
     "data": {
      "text/plain": [
       "'Honda'"
      ]
     },
     "execution_count": 184,
     "metadata": {},
     "output_type": "execute_result"
    }
   ],
   "source": [
    "c1.name"
   ]
  },
  {
   "cell_type": "code",
   "execution_count": 218,
   "metadata": {},
   "outputs": [
    {
     "ename": "AttributeError",
     "evalue": "type object 'Car' has no attribute 'name'",
     "output_type": "error",
     "traceback": [
      "\u001b[1;31m---------------------------------------------------------------------------\u001b[0m",
      "\u001b[1;31mAttributeError\u001b[0m                            Traceback (most recent call last)",
      "\u001b[1;32m<ipython-input-218-65ea121051b4>\u001b[0m in \u001b[0;36m<module>\u001b[1;34m()\u001b[0m\n\u001b[1;32m----> 1\u001b[1;33m \u001b[0mCar\u001b[0m\u001b[1;33m.\u001b[0m\u001b[0mname\u001b[0m\u001b[1;33m\u001b[0m\u001b[0m\n\u001b[0m",
      "\u001b[1;31mAttributeError\u001b[0m: type object 'Car' has no attribute 'name'"
     ]
    }
   ],
   "source": [
    "## See Car dict does not have any attribute name. That was created only for object c1.\n",
    "Car.name"
   ]
  },
  {
   "cell_type": "code",
   "execution_count": 186,
   "metadata": {},
   "outputs": [
    {
     "ename": "AttributeError",
     "evalue": "'Car' object has no attribute 'name'",
     "output_type": "error",
     "traceback": [
      "\u001b[1;31m---------------------------------------------------------------------------\u001b[0m",
      "\u001b[1;31mAttributeError\u001b[0m                            Traceback (most recent call last)",
      "\u001b[1;32m<ipython-input-186-18df6271cb9e>\u001b[0m in \u001b[0;36m<module>\u001b[1;34m()\u001b[0m\n\u001b[1;32m----> 1\u001b[1;33m \u001b[0mc2\u001b[0m\u001b[1;33m.\u001b[0m\u001b[0mname\u001b[0m\u001b[1;33m\u001b[0m\u001b[0m\n\u001b[0m",
      "\u001b[1;31mAttributeError\u001b[0m: 'Car' object has no attribute 'name'"
     ]
    }
   ],
   "source": [
    "c2.name"
   ]
  },
  {
   "cell_type": "code",
   "execution_count": 187,
   "metadata": {},
   "outputs": [
    {
     "data": {
      "text/plain": [
       "{'color': 'red', 'name': 'Honda'}"
      ]
     },
     "execution_count": 187,
     "metadata": {},
     "output_type": "execute_result"
    }
   ],
   "source": [
    "c1.__dict__"
   ]
  },
  {
   "cell_type": "code",
   "execution_count": 188,
   "metadata": {},
   "outputs": [
    {
     "data": {
      "text/plain": [
       "mappingproxy({'__dict__': <attribute '__dict__' of 'Car' objects>,\n",
       "              '__doc__': None,\n",
       "              '__module__': '__main__',\n",
       "              '__weakref__': <attribute '__weakref__' of 'Car' objects>,\n",
       "              'color': 'white'})"
      ]
     },
     "execution_count": 188,
     "metadata": {},
     "output_type": "execute_result"
    }
   ],
   "source": [
    "Car.__dict__"
   ]
  },
  {
   "cell_type": "code",
   "execution_count": 189,
   "metadata": {},
   "outputs": [
    {
     "data": {
      "text/plain": [
       "{}"
      ]
     },
     "execution_count": 189,
     "metadata": {},
     "output_type": "execute_result"
    }
   ],
   "source": [
    "c2.__dict__"
   ]
  },
  {
   "cell_type": "code",
   "execution_count": 190,
   "metadata": {},
   "outputs": [],
   "source": [
    "def driver_car(c):\n",
    "    print(\"Driving\", c.name)"
   ]
  },
  {
   "cell_type": "code",
   "execution_count": 193,
   "metadata": {},
   "outputs": [
    {
     "name": "stdout",
     "output_type": "stream",
     "text": [
      "Driving Honda\n"
     ]
    }
   ],
   "source": [
    "driver_car(c1)"
   ]
  },
  {
   "cell_type": "code",
   "execution_count": 195,
   "metadata": {},
   "outputs": [],
   "source": [
    "c2.name = \"toyata\""
   ]
  },
  {
   "cell_type": "code",
   "execution_count": 196,
   "metadata": {},
   "outputs": [
    {
     "name": "stdout",
     "output_type": "stream",
     "text": [
      "Driving toyata\n"
     ]
    }
   ],
   "source": [
    "driver_car(c2)"
   ]
  },
  {
   "cell_type": "code",
   "execution_count": 197,
   "metadata": {},
   "outputs": [],
   "source": [
    "class Person: pass"
   ]
  },
  {
   "cell_type": "code",
   "execution_count": 198,
   "metadata": {},
   "outputs": [],
   "source": [
    "p = Person()"
   ]
  },
  {
   "cell_type": "code",
   "execution_count": 199,
   "metadata": {},
   "outputs": [],
   "source": [
    "p.name = \"John\""
   ]
  },
  {
   "cell_type": "code",
   "execution_count": 201,
   "metadata": {},
   "outputs": [
    {
     "name": "stdout",
     "output_type": "stream",
     "text": [
      "Driving John\n"
     ]
    }
   ],
   "source": [
    "driver_car(p)         ## this is wrong design. Below refers correct"
   ]
  },
  {
   "cell_type": "code",
   "execution_count": 202,
   "metadata": {},
   "outputs": [],
   "source": [
    "Car.drive = driver_car"
   ]
  },
  {
   "cell_type": "code",
   "execution_count": 203,
   "metadata": {},
   "outputs": [
    {
     "name": "stdout",
     "output_type": "stream",
     "text": [
      "Driving Honda\n"
     ]
    }
   ],
   "source": [
    "Car.drive(c1)"
   ]
  },
  {
   "cell_type": "code",
   "execution_count": 204,
   "metadata": {},
   "outputs": [
    {
     "name": "stdout",
     "output_type": "stream",
     "text": [
      "Driving Honda\n"
     ]
    }
   ],
   "source": [
    "c1.drive()"
   ]
  },
  {
   "cell_type": "code",
   "execution_count": 205,
   "metadata": {},
   "outputs": [
    {
     "name": "stdout",
     "output_type": "stream",
     "text": [
      "Driving toyata\n"
     ]
    }
   ],
   "source": [
    "c2.drive()"
   ]
  },
  {
   "cell_type": "code",
   "execution_count": 206,
   "metadata": {},
   "outputs": [
    {
     "ename": "AttributeError",
     "evalue": "'Person' object has no attribute 'drive'",
     "output_type": "error",
     "traceback": [
      "\u001b[1;31m---------------------------------------------------------------------------\u001b[0m",
      "\u001b[1;31mAttributeError\u001b[0m                            Traceback (most recent call last)",
      "\u001b[1;32m<ipython-input-206-86ac53a22307>\u001b[0m in \u001b[0;36m<module>\u001b[1;34m()\u001b[0m\n\u001b[1;32m----> 1\u001b[1;33m \u001b[0mp\u001b[0m\u001b[1;33m.\u001b[0m\u001b[0mdrive\u001b[0m\u001b[1;33m(\u001b[0m\u001b[1;33m)\u001b[0m    \u001b[1;31m# this will not work since drive not defined on instance\u001b[0m\u001b[1;33m\u001b[0m\u001b[0m\n\u001b[0m",
      "\u001b[1;31mAttributeError\u001b[0m: 'Person' object has no attribute 'drive'"
     ]
    }
   ],
   "source": [
    "p.drive()    # this will not work since drive not defined on instance"
   ]
  },
  {
   "cell_type": "code",
   "execution_count": 207,
   "metadata": {},
   "outputs": [
    {
     "name": "stdout",
     "output_type": "stream",
     "text": [
      "Driving John\n"
     ]
    }
   ],
   "source": [
    "# but below works\n",
    "Car.drive(p)  ## but this we dont call"
   ]
  },
  {
   "cell_type": "code",
   "execution_count": 210,
   "metadata": {},
   "outputs": [
    {
     "name": "stdout",
     "output_type": "stream",
     "text": [
      "Driving Honda\n"
     ]
    }
   ],
   "source": [
    "## it will first check if the instance is calling a attribute from class then will invoke it class method\n",
    "c1.__class__.drive(c1)       ## same as 1st argument is reference to instance c1.drive()"
   ]
  },
  {
   "cell_type": "code",
   "execution_count": 219,
   "metadata": {},
   "outputs": [
    {
     "ename": "NameError",
     "evalue": "name 'self' is not defined",
     "output_type": "error",
     "traceback": [
      "\u001b[1;31m---------------------------------------------------------------------------\u001b[0m",
      "\u001b[1;31mNameError\u001b[0m                                 Traceback (most recent call last)",
      "\u001b[1;32m<ipython-input-219-b740163ec9bd>\u001b[0m in \u001b[0;36m<module>\u001b[1;34m()\u001b[0m\n\u001b[1;32m----> 1\u001b[1;33m \u001b[1;32mclass\u001b[0m \u001b[0mCar\u001b[0m\u001b[1;33m:\u001b[0m\u001b[1;33m\u001b[0m\u001b[0m\n\u001b[0m\u001b[0;32m      2\u001b[0m         \u001b[0mself\u001b[0m\u001b[1;33m.\u001b[0m\u001b[0mcolor\u001b[0m \u001b[1;33m=\u001b[0m \u001b[1;34m\"red\"\u001b[0m\u001b[1;33m\u001b[0m\u001b[0m\n\u001b[0;32m      3\u001b[0m         \u001b[1;32mdef\u001b[0m \u001b[0mdrive\u001b[0m\u001b[1;33m(\u001b[0m\u001b[0mself\u001b[0m\u001b[1;33m)\u001b[0m\u001b[1;33m:\u001b[0m\u001b[1;33m\u001b[0m\u001b[0m\n\u001b[0;32m      4\u001b[0m                 \u001b[0mprint\u001b[0m\u001b[1;33m(\u001b[0m\u001b[0mself\u001b[0m\u001b[1;33m.\u001b[0m\u001b[0mcolor\u001b[0m\u001b[1;33m)\u001b[0m\u001b[1;33m\u001b[0m\u001b[0m\n",
      "\u001b[1;32m<ipython-input-219-b740163ec9bd>\u001b[0m in \u001b[0;36mCar\u001b[1;34m()\u001b[0m\n\u001b[0;32m      1\u001b[0m \u001b[1;32mclass\u001b[0m \u001b[0mCar\u001b[0m\u001b[1;33m:\u001b[0m\u001b[1;33m\u001b[0m\u001b[0m\n\u001b[1;32m----> 2\u001b[1;33m         \u001b[0mself\u001b[0m\u001b[1;33m.\u001b[0m\u001b[0mcolor\u001b[0m \u001b[1;33m=\u001b[0m \u001b[1;34m\"red\"\u001b[0m\u001b[1;33m\u001b[0m\u001b[0m\n\u001b[0m\u001b[0;32m      3\u001b[0m         \u001b[1;32mdef\u001b[0m \u001b[0mdrive\u001b[0m\u001b[1;33m(\u001b[0m\u001b[0mself\u001b[0m\u001b[1;33m)\u001b[0m\u001b[1;33m:\u001b[0m\u001b[1;33m\u001b[0m\u001b[0m\n\u001b[0;32m      4\u001b[0m                 \u001b[0mprint\u001b[0m\u001b[1;33m(\u001b[0m\u001b[0mself\u001b[0m\u001b[1;33m.\u001b[0m\u001b[0mcolor\u001b[0m\u001b[1;33m)\u001b[0m\u001b[1;33m\u001b[0m\u001b[0m\n",
      "\u001b[1;31mNameError\u001b[0m: name 'self' is not defined"
     ]
    }
   ],
   "source": [
    "class Car:\n",
    "\tself.color = \"red\"                ## this is not correct since constructor itself is not yet called.\n",
    "\tdef drive(self):\n",
    "\t\tprint(self.color)\n"
   ]
  },
  {
   "cell_type": "code",
   "execution_count": 220,
   "metadata": {},
   "outputs": [],
   "source": [
    "#### NOW After lunch resumes"
   ]
  },
  {
   "cell_type": "code",
   "execution_count": 223,
   "metadata": {},
   "outputs": [],
   "source": [
    "class Car:\n",
    "    color = \"red\"\n",
    "    def drive(c):\n",
    "        print(\"driving,\", c.name)\n",
    "\n",
    "        \n",
    "    "
   ]
  },
  {
   "cell_type": "code",
   "execution_count": 224,
   "metadata": {
    "scrolled": true
   },
   "outputs": [
    {
     "name": "stdout",
     "output_type": "stream",
     "text": [
      "driving, honda\n"
     ]
    }
   ],
   "source": [
    "c = Car()\n",
    "c.name = \"honda\"\n",
    "c.drive()"
   ]
  },
  {
   "cell_type": "code",
   "execution_count": 225,
   "metadata": {},
   "outputs": [],
   "source": [
    "class Car:\n",
    "    color = \"red\"\n",
    "    def __init__(c, name):\n",
    "        c.name = name\n",
    "    def drive(c):                                ## 1st argument is necessary because the object instance on which this function will operate needs a instance of object. Explicetely make it visible\n",
    "        print(\"driving,\", c.name)\n",
    "\n",
    "        \n",
    "    "
   ]
  },
  {
   "cell_type": "code",
   "execution_count": 227,
   "metadata": {},
   "outputs": [
    {
     "name": "stdout",
     "output_type": "stream",
     "text": [
      "driving, Honda\n",
      "driving, Toyota\n",
      "driving, Toyota\n"
     ]
    }
   ],
   "source": [
    "c = Car(\"Honda\")\n",
    "c.drive()\n",
    "c2 = Car(\"Toyota\")\n",
    "c2.drive()\n",
    "c2.__class__.drive(c2)   ## it is resolved as follows so c2 is explicitly passed by python\n",
    " # . is an operator for which python will perfrom the above call routine."
   ]
  },
  {
   "cell_type": "code",
   "execution_count": 228,
   "metadata": {},
   "outputs": [
    {
     "ename": "TypeError",
     "evalue": "drive() missing 1 required positional argument: 'c'",
     "output_type": "error",
     "traceback": [
      "\u001b[1;31m---------------------------------------------------------------------------\u001b[0m",
      "\u001b[1;31mTypeError\u001b[0m                                 Traceback (most recent call last)",
      "\u001b[1;32m<ipython-input-228-5d40b79a4372>\u001b[0m in \u001b[0;36m<module>\u001b[1;34m()\u001b[0m\n\u001b[1;32m----> 1\u001b[1;33m \u001b[0mc2\u001b[0m\u001b[1;33m.\u001b[0m\u001b[0m__class__\u001b[0m\u001b[1;33m.\u001b[0m\u001b[0mdrive\u001b[0m\u001b[1;33m(\u001b[0m\u001b[1;33m)\u001b[0m\u001b[1;33m\u001b[0m\u001b[0m\n\u001b[0m",
      "\u001b[1;31mTypeError\u001b[0m: drive() missing 1 required positional argument: 'c'"
     ]
    }
   ],
   "source": [
    "c2.__class__.drive()      ## this  gives error.    ## this is because for manual passing from class name it needs a self/c2  object to be passed."
   ]
  },
  {
   "cell_type": "code",
   "execution_count": 229,
   "metadata": {},
   "outputs": [],
   "source": [
    "# This  is a right hand side expression. dynamically created and can be passed\n",
    "# only result of the expression in the body. It will not have 1 more statement/keywords like if. but ternary if like if(x): x*x can be used\n",
    "sqr = lambda x: x*x"
   ]
  },
  {
   "cell_type": "code",
   "execution_count": 230,
   "metadata": {},
   "outputs": [
    {
     "name": "stdout",
     "output_type": "stream",
     "text": [
      "4\n"
     ]
    }
   ],
   "source": [
    "# this type of function can have a compund statement.\n",
    "def square(x): return x*x\n",
    "print(square(2))"
   ]
  },
  {
   "cell_type": "code",
   "execution_count": 4,
   "metadata": {},
   "outputs": [
    {
     "ename": "SyntaxError",
     "evalue": "unexpected EOF while parsing (<ipython-input-4-835273544cc9>, line 3)",
     "output_type": "error",
     "traceback": [
      "\u001b[1;36m  File \u001b[1;32m\"<ipython-input-4-835273544cc9>\"\u001b[1;36m, line \u001b[1;32m3\u001b[0m\n\u001b[1;33m    print(type(map(lambda x: x*x, [10, 20]))\u001b[0m\n\u001b[1;37m                                            ^\u001b[0m\n\u001b[1;31mSyntaxError\u001b[0m\u001b[1;31m:\u001b[0m unexpected EOF while parsing\n"
     ]
    }
   ],
   "source": [
    "# map function will take 1 argument\n",
    "print(list(map(lambda x: x*x, [10, 20])))\n",
    "map(lambda x: x*x, [10, 20])\n"
   ]
  },
  {
   "cell_type": "code",
   "execution_count": 232,
   "metadata": {},
   "outputs": [],
   "source": [
    "# lambda will be disposed off and will be garbage collected. dynamically create a function\n",
    "# This is to create two ways to create a function"
   ]
  },
  {
   "cell_type": "code",
   "execution_count": 234,
   "metadata": {},
   "outputs": [
    {
     "data": {
      "text/plain": [
       "__main__.Car"
      ]
     },
     "execution_count": 234,
     "metadata": {},
     "output_type": "execute_result"
    }
   ],
   "source": [
    "# Now for Class\n",
    "class Car:\n",
    "    color = \"red\"\n",
    "    \n",
    "Car"
   ]
  },
  {
   "cell_type": "code",
   "execution_count": 236,
   "metadata": {},
   "outputs": [
    {
     "data": {
      "text/plain": [
       "__main__.Car"
      ]
     },
     "execution_count": 236,
     "metadata": {},
     "output_type": "execute_result"
    }
   ],
   "source": [
    "# All classes by definition are instances of type. type is a metaclass\n",
    "#\"car is 1st argument\", () -> empty base class. {} -> what attributes it should have \n",
    "Car = type(\"Car\", (), {\"color\": \"red\"})            ## this is how python creates any class.\n",
    "Car"
   ]
  },
  {
   "cell_type": "code",
   "execution_count": 238,
   "metadata": {},
   "outputs": [
    {
     "data": {
      "text/plain": [
       "<__main__.Car at 0x6784850>"
      ]
     },
     "execution_count": 238,
     "metadata": {},
     "output_type": "execute_result"
    }
   ],
   "source": [
    "c = Car()\n",
    "c                     ### see the output -> this says that object of Car at some address - which stores the memory of Car class and it's attributes but local variables inside a function of these classes are not in memory -> since theose are created and destroyed when the function is run."
   ]
  },
  {
   "cell_type": "code",
   "execution_count": 241,
   "metadata": {},
   "outputs": [
    {
     "ename": "TypeError",
     "evalue": "__class__ assignment only supported for heap types or ModuleType subclasses",
     "output_type": "error",
     "traceback": [
      "\u001b[1;31m---------------------------------------------------------------------------\u001b[0m",
      "\u001b[1;31mTypeError\u001b[0m                                 Traceback (most recent call last)",
      "\u001b[1;32m<ipython-input-241-5505c04454b9>\u001b[0m in \u001b[0;36m<module>\u001b[1;34m()\u001b[0m\n\u001b[0;32m      2\u001b[0m \u001b[1;31m# it create a blank object and then assign the __class__ attribute to the Car class\u001b[0m\u001b[1;33m\u001b[0m\u001b[1;33m\u001b[0m\u001b[0m\n\u001b[0;32m      3\u001b[0m \u001b[0mc\u001b[0m \u001b[1;33m=\u001b[0m \u001b[0mobject\u001b[0m\u001b[1;33m(\u001b[0m\u001b[1;33m)\u001b[0m\u001b[1;33m\u001b[0m\u001b[0m\n\u001b[1;32m----> 4\u001b[1;33m \u001b[0mc\u001b[0m\u001b[1;33m.\u001b[0m\u001b[0m__class__\u001b[0m \u001b[1;33m=\u001b[0m \u001b[0mCar\u001b[0m\u001b[1;33m\u001b[0m\u001b[0m\n\u001b[0m\u001b[0;32m      5\u001b[0m \u001b[0mc\u001b[0m\u001b[1;33m\u001b[0m\u001b[0m\n",
      "\u001b[1;31mTypeError\u001b[0m: __class__ assignment only supported for heap types or ModuleType subclasses"
     ]
    }
   ],
   "source": [
    "# in python3 this is restricted. But originally it does like\n",
    "# it create a blank object and then assign the __class__ attribute to the Car class\n",
    "# in python2 below used to work\n",
    "c = object()\n",
    "c.__class__ = Car\n",
    "c\n"
   ]
  },
  {
   "cell_type": "code",
   "execution_count": null,
   "metadata": {},
   "outputs": [],
   "source": [
    "# instance creation -> __call__ from metaclass -> this will call __new__ -> will call __init__ -> this will give a instance returned\n",
    "## check the slides shared for nice diagram of how this happens.\n"
   ]
  },
  {
   "cell_type": "code",
   "execution_count": 242,
   "metadata": {},
   "outputs": [],
   "source": [
    "## init method should not call open/close/etc in init only allocation. because every instance object may not call it.\n",
    "## this is not a very good design to call open/clsoe in __init__ routine.\n",
    "class Car:\n",
    "    color = \"red\"\n",
    "    def __init__(c, name):\n",
    "        c.name = name\n",
    "    def drive(c):                                ## 1st argument is necessary because the object instance on which this function will operate needs a instance of object. Explicetely make it visible\n",
    "        print(\"driving,\", c.name)\n",
    "\n",
    "        \n",
    "    "
   ]
  },
  {
   "cell_type": "code",
   "execution_count": 244,
   "metadata": {},
   "outputs": [
    {
     "name": "stdout",
     "output_type": "stream",
     "text": [
      "car object created...\n",
      "\n"
     ]
    }
   ],
   "source": [
    "class Car:\n",
    "    def __init__(self):\n",
    "        print(\"car object created...\\n\")\n",
    "    \n",
    "    def __del__(self):\n",
    "        print(\"Car object is being freed.\\n\")\n",
    "\n",
    "c = Car()"
   ]
  },
  {
   "cell_type": "code",
   "execution_count": 245,
   "metadata": {},
   "outputs": [
    {
     "name": "stdout",
     "output_type": "stream",
     "text": [
      "Car object is being freed.\n",
      "\n"
     ]
    }
   ],
   "source": [
    "del c          ## when the main program will exit -> the del method is automatically called by garbage collector.\n",
    "# but when this will be called by garbage collector cannot be controller by user so we should not open files in __init__ and close them in __del__ -> it may so happen like in pypy -> it never calls del soemtimes when the file execution is ending assuming that the program anyway ended."
   ]
  },
  {
   "cell_type": "code",
   "execution_count": 9,
   "metadata": {},
   "outputs": [
    {
     "name": "stdout",
     "output_type": "stream",
     "text": [
      "car object created...\n",
      "\n",
      "person created\n",
      "\n"
     ]
    }
   ],
   "source": [
    "## what can go wrong with above.\n",
    "# -> cyclic references. This gets freed in python 3 instantly.\n",
    "# Because later this instance it will never be used (c & p)\n",
    "# in pypy it does not call -> becuse it knows that it will anyway exit.\n",
    "\n",
    "# Dont put exceptions in del method.\n",
    "# dont put tmp files freed in del method -> becuse we dont control del method-> it happens via GC.\n",
    "# Better to do context maagement.\n",
    "\n",
    "class Car:\n",
    "    def __init__(self):\n",
    "        print(\"car object created...\\n\")\n",
    "    \n",
    "    def __del__(self):\n",
    "        print(\"Car object is being freed.\\n\")\n",
    "\n",
    "class Person:\n",
    "    def __init__(self):\n",
    "        print(\"person created\\n\")\n",
    "    def __del__(self):\n",
    "        print(\"Person deleted\\n\")\n",
    "\n",
    "c = Car()\n",
    "p = Person()\n",
    "p.owns = c\n",
    "c.owner = p\n",
    "del c\n",
    "del p"
   ]
  },
  {
   "cell_type": "code",
   "execution_count": 10,
   "metadata": {},
   "outputs": [],
   "source": [
    "# context managment example. --> in python book by David this is also reciepe is given. \n",
    "class DataStore:\n",
    "    def __init__(self, filename):\n",
    "        self.filename = filename\n",
    "        print(\"Init called\\n\")\n",
    "    def __enter__(self):         ## any kind of external resource management -> context management method\n",
    "        self.file = open(self.filename, \"a\")\n",
    "        print(\"Enter called\\n\")\n",
    "        return self\n",
    "    def __exit__(self, exception_type, exception_value, tb):\n",
    "        self.file.close()\n",
    "        print(\"Exit called\", exception_type, exception_value, tb)\n",
    "\n",
    "        "
   ]
  },
  {
   "cell_type": "code",
   "execution_count": 11,
   "metadata": {},
   "outputs": [
    {
     "name": "stdout",
     "output_type": "stream",
     "text": [
      "Init called\n",
      "\n"
     ]
    }
   ],
   "source": [
    "d = DataStore(\"test.log\")"
   ]
  },
  {
   "cell_type": "code",
   "execution_count": 12,
   "metadata": {},
   "outputs": [
    {
     "name": "stdout",
     "output_type": "stream",
     "text": [
      "Enter called\n",
      "\n",
      "in with block\n",
      "Exit called None None None\n"
     ]
    }
   ],
   "source": [
    "# with DataStore(\"test.log\") as d: -> is same\n",
    "\n",
    "with d:\n",
    "    print(\"This is a test message\\n\", file=d.file)             ## this will make print goes to the log file.\n",
    "    print(\"This is another line..\\n\", file=d.file)\n",
    "    print(\"in with block\")\n",
    "    \n",
    "    "
   ]
  },
  {
   "cell_type": "code",
   "execution_count": 262,
   "metadata": {},
   "outputs": [
    {
     "name": "stdout",
     "output_type": "stream",
     "text": [
      "hello John\n"
     ]
    }
   ],
   "source": [
    "def greet(name):\n",
    "    print(\"hello\", name)\n",
    "    \n",
    "greet(\"John\")"
   ]
  },
  {
   "cell_type": "code",
   "execution_count": 263,
   "metadata": {},
   "outputs": [
    {
     "ename": "TypeError",
     "evalue": "greet() takes 0 positional arguments but 1 was given",
     "output_type": "error",
     "traceback": [
      "\u001b[1;31m---------------------------------------------------------------------------\u001b[0m",
      "\u001b[1;31mTypeError\u001b[0m                                 Traceback (most recent call last)",
      "\u001b[1;32m<ipython-input-263-b89288b5faaa>\u001b[0m in \u001b[0;36m<module>\u001b[1;34m()\u001b[0m\n\u001b[0;32m      5\u001b[0m     \u001b[0mprint\u001b[0m\u001b[1;33m(\u001b[0m\u001b[1;34m\"hello world\"\u001b[0m\u001b[1;33m)\u001b[0m\u001b[1;33m\u001b[0m\u001b[0m\n\u001b[0;32m      6\u001b[0m \u001b[1;33m\u001b[0m\u001b[0m\n\u001b[1;32m----> 7\u001b[1;33m \u001b[0mgreet\u001b[0m\u001b[1;33m(\u001b[0m\u001b[1;34m\"John\"\u001b[0m\u001b[1;33m)\u001b[0m\u001b[1;33m\u001b[0m\u001b[0m\n\u001b[0m\u001b[0;32m      8\u001b[0m \u001b[0mgreet\u001b[0m\u001b[1;33m(\u001b[0m\u001b[1;33m)\u001b[0m\u001b[1;33m\u001b[0m\u001b[0m\n",
      "\u001b[1;31mTypeError\u001b[0m: greet() takes 0 positional arguments but 1 was given"
     ]
    }
   ],
   "source": [
    "def greet(name):\n",
    "    print(\"hello\", name)\n",
    "\n",
    "def greet():\n",
    "    print(\"hello world\")\n",
    "\n",
    "greet(\"John\")          ## this will not work since the 2nd defintion will be the latest.\n",
    "greet()"
   ]
  },
  {
   "cell_type": "code",
   "execution_count": 264,
   "metadata": {},
   "outputs": [
    {
     "name": "stdout",
     "output_type": "stream",
     "text": [
      "hello John\n",
      "hello world\n"
     ]
    }
   ],
   "source": [
    "def greet(name = \"world\"):        ### Default arguments\n",
    "    print(\"hello\", name)\n",
    "\n",
    "greet(\"John\")          ## this time it will work since greet function has keyword argument and not mandatory argument.\n",
    "greet()"
   ]
  },
  {
   "cell_type": "code",
   "execution_count": 265,
   "metadata": {},
   "outputs": [
    {
     "ename": "SyntaxError",
     "evalue": "non-default argument follows default argument (<ipython-input-265-5dcd0d950f9f>, line 1)",
     "output_type": "error",
     "traceback": [
      "\u001b[1;36m  File \u001b[1;32m\"<ipython-input-265-5dcd0d950f9f>\"\u001b[1;36m, line \u001b[1;32m1\u001b[0m\n\u001b[1;33m    def greet(name = \"world\", city):        ### Default arguments always at the end and mandataty arguments always should come 1st.\u001b[0m\n\u001b[1;37m             ^\u001b[0m\n\u001b[1;31mSyntaxError\u001b[0m\u001b[1;31m:\u001b[0m non-default argument follows default argument\n"
     ]
    }
   ],
   "source": [
    "## Note syntax error. \n",
    "def greet(name = \"world\", city):        ### Default arguments always at the end and mandataty arguments always should come 1st.\n",
    "    print(\"hello\", name)\n",
    "\n",
    "greet(\"John\")          ## this will not work since the 2nd defintion will be the latest.\n",
    "greet()"
   ]
  },
  {
   "cell_type": "code",
   "execution_count": 270,
   "metadata": {},
   "outputs": [
    {
     "name": "stdout",
     "output_type": "stream",
     "text": [
      "('ritesh', 'hyderabad', [0, 2])\n",
      "ritesh hyderabad\n"
     ]
    }
   ],
   "source": [
    "## *args -> collect all argument from this position into a tuple\n",
    "## arbitarary argument list, variable-arity \n",
    "def greet(*args):\n",
    "    print(args)\n",
    "    print(args[0], args[1])\n",
    "\n",
    "greet(\"ritesh\", \"hyderabad\",  [0, 2])"
   ]
  },
  {
   "cell_type": "code",
   "execution_count": 273,
   "metadata": {},
   "outputs": [
    {
     "name": "stdout",
     "output_type": "stream",
     "text": [
      "hello World hyderabad\n"
     ]
    }
   ],
   "source": [
    "def greet(city, name=\"World\"):        ### Default arguments always at the end and mandataty arguments always should come 1st.\n",
    "    print(\"hello\", name, city)\n",
    "\n",
    "greet(city = \"hyderabad\")"
   ]
  },
  {
   "cell_type": "code",
   "execution_count": 23,
   "metadata": {},
   "outputs": [
    {
     "name": "stdout",
     "output_type": "stream",
     "text": [
      "('ritesh', 'hyderabad', [0, 2])\n",
      "ritesh hyderabad\n",
      "ritesh harjani\n",
      "ritesh harjani\n",
      "ritesh harjani\n"
     ]
    }
   ],
   "source": [
    "## *args -> collect all argument from this position into a tuple\n",
    "## arbitarary argument list, variable-arity \n",
    "def greet(*args):\n",
    "    print(args)\n",
    "    print(args[0], args[1])\n",
    "    #args[0] = \"a\"                      # -- tuple cannot be modified.\n",
    "    \n",
    "    \n",
    "\n",
    "greet(\"ritesh\", \"hyderabad\",  [0, 2])\n",
    "\n",
    "## if we pass *args to a function -> it will expand those into those many number of items.\n",
    "\n",
    "def test(*args):\n",
    "    a, b = args                       ## this args is a tuple, need not do *args in this\n",
    "    # a, b =*args                    ## -> this is wrong we should not do this way\n",
    "    print(a, b)\n",
    "\n",
    "x = [\"ritesh\", \"harjani\"]\n",
    "y = (\"ritesh\", \"harjani\")    ## can pass any sequence here,\n",
    "test(\"ritesh\", \"harjani\")\n",
    "\n",
    "test(*x)\n",
    "test(*y)"
   ]
  },
  {
   "cell_type": "code",
   "execution_count": 1,
   "metadata": {},
   "outputs": [
    {
     "ename": "TypeError",
     "evalue": "cannot convert dictionary update sequence element #0 to a sequence",
     "output_type": "error",
     "traceback": [
      "\u001b[1;31m---------------------------------------------------------------------------\u001b[0m",
      "\u001b[1;31mTypeError\u001b[0m                                 Traceback (most recent call last)",
      "\u001b[1;32m<ipython-input-1-0efc95b30fee>\u001b[0m in \u001b[0;36m<module>\u001b[1;34m()\u001b[0m\n\u001b[0;32m      8\u001b[0m \u001b[1;33m\u001b[0m\u001b[0m\n\u001b[0;32m      9\u001b[0m \u001b[0mvar\u001b[0m \u001b[1;33m=\u001b[0m \u001b[1;33m[\u001b[0m\u001b[1;36m10\u001b[0m\u001b[1;33m,\u001b[0m \u001b[1;36m20\u001b[0m\u001b[1;33m,\u001b[0m \u001b[1;36m30\u001b[0m\u001b[1;33m]\u001b[0m\u001b[1;33m\u001b[0m\u001b[0m\n\u001b[1;32m---> 10\u001b[1;33m \u001b[0mprint\u001b[0m\u001b[1;33m(\u001b[0m\u001b[0mdict\u001b[0m\u001b[1;33m(\u001b[0m\u001b[0mvar\u001b[0m\u001b[1;33m)\u001b[0m\u001b[1;33m)\u001b[0m\u001b[1;33m\u001b[0m\u001b[0m\n\u001b[0m\u001b[0;32m     11\u001b[0m \u001b[1;31m#greet(dict(var))\u001b[0m\u001b[1;33m\u001b[0m\u001b[1;33m\u001b[0m\u001b[0m\n",
      "\u001b[1;31mTypeError\u001b[0m: cannot convert dictionary update sequence element #0 to a sequence"
     ]
    }
   ],
   "source": [
    "\n",
    "\n",
    "# **args need to understand\n",
    "# below is wrong example not from class\n",
    "def greet(**args):\n",
    "    print(args)\n",
    "    print(args[0], args[1])\n",
    "\n",
    "var = [10, 20, 30]\n",
    "# print(dict(var))   ## this itself is wrong, a sequence cannot be converted into a dict type.\n",
    "greet(dict(var))     ## hence this is also worng."
   ]
  },
  {
   "cell_type": "code",
   "execution_count": 281,
   "metadata": {},
   "outputs": [],
   "source": [
    "## import rlcompleter\n",
    "import rlcompleter\n",
    "# This is a readline completer like up arrow for history etc. -> this is very nice."
   ]
  },
  {
   "cell_type": "code",
   "execution_count": 282,
   "metadata": {},
   "outputs": [],
   "source": [
    "## we can delete any attribute from current namespace. like os.unlink => monkeypatching."
   ]
  },
  {
   "cell_type": "code",
   "execution_count": 2,
   "metadata": {},
   "outputs": [
    {
     "name": "stdout",
     "output_type": "stream",
     "text": [
      "name =  John\n",
      "city =  Hyderabad\n",
      "visited= ('Bengaluru',)\n"
     ]
    }
   ],
   "source": [
    "def greet(name, city=\"Mumbai\", *visited):   \n",
    "    print(\"name = \", name)\n",
    "    print(\"city = \", city)\n",
    "    print(\"visited=\", visited)                 ## see output of visited it is a tuple\n",
    "\n",
    "greet(\"John\", \"Hyderabad\", \"Bengaluru\")"
   ]
  },
  {
   "cell_type": "code",
   "execution_count": 285,
   "metadata": {},
   "outputs": [
    {
     "name": "stdout",
     "output_type": "stream",
     "text": [
      "name =  John\n",
      "city =  Mumbai\n",
      "visited= ('Hyderabad', 'Bengaluru')\n"
     ]
    }
   ],
   "source": [
    "# In python3 below is legal unlike python2\n",
    "\n",
    "def greet(name, *visited, city=\"Mumbai\"):\n",
    "    print(\"name = \", name)\n",
    "    print(\"city = \", city)\n",
    "    print(\"visited=\", visited)\n",
    "\n",
    "greet(\"John\", \"Hyderabad\", \"Bengaluru\")"
   ]
  },
  {
   "cell_type": "code",
   "execution_count": 3,
   "metadata": {},
   "outputs": [
    {
     "name": "stdout",
     "output_type": "stream",
     "text": [
      "name =  John\n",
      "city =  mum\n",
      "visited= ('Hyderabad', 'Bengaluru')\n"
     ]
    }
   ],
   "source": [
    "# In python3 below is also legal\n",
    "# Note is mandatory and keyword argument.\n",
    "\n",
    "def greet(name, *visited, city):\n",
    "    print(\"name = \", name)\n",
    "    print(\"city = \", city)\n",
    "    print(\"visited=\", visited)\n",
    "\n",
    "#greet(\"John\", \"Hyderabad\", \"Bengaluru\")   ## wrong syntax since city is mandatory\n",
    "greet(\"John\", \"Hyderabad\", \"Bengaluru\", city=\"mum\")   ## correct syntax"
   ]
  },
  {
   "cell_type": "code",
   "execution_count": 292,
   "metadata": {},
   "outputs": [
    {
     "name": "stdout",
     "output_type": "stream",
     "text": [
      "120\n",
      "[10, 20]\n"
     ]
    }
   ],
   "source": [
    "## Very important. *values here expand and assign it.\n",
    "# telling *Value (any collection) is like telling x, y = v\n",
    "def add(x, y):\n",
    "    x = 100\n",
    "    print(x+y)\n",
    "\n",
    "values = (10, 20)        ## this can be [10, 20]\n",
    "add(*values)                ### *values when passed to a function will expand.\n",
    "\n",
    "print(values)"
   ]
  },
  {
   "cell_type": "code",
   "execution_count": 296,
   "metadata": {},
   "outputs": [],
   "source": [
    "## Now ** -> keywords argument\n",
    "def store_data(name, role, dept, place):\n",
    "    print(\"Storing\", end= \" \")\n",
    "    print(\"name = {}, role = {}, dept = {}, place = {}\".format(name, role, dept, place))"
   ]
  },
  {
   "cell_type": "code",
   "execution_count": 297,
   "metadata": {},
   "outputs": [
    {
     "name": "stdout",
     "output_type": "stream",
     "text": [
      "Storing name = admin, role = IT, dept = hyd, place = John\n"
     ]
    }
   ],
   "source": [
    "rec = (\"admin\", \"IT\", \"hyd\", \"John\")\n",
    "store_data(*rec)"
   ]
  },
  {
   "cell_type": "code",
   "execution_count": 298,
   "metadata": {},
   "outputs": [
    {
     "name": "stdout",
     "output_type": "stream",
     "text": [
      "Storing name = John, role = admin, dept = IT, place = Hyde\n"
     ]
    }
   ],
   "source": [
    "## above becomes wrong so we use dictionary for keyword data type.\n",
    "## This is functional polymorphism.\n",
    "rec = dict(role = \"admin\", dept=\"IT\", place=\"Hyde\", name=\"John\")\n",
    "store_data(**rec)"
   ]
  },
  {
   "cell_type": "code",
   "execution_count": 12,
   "metadata": {},
   "outputs": [
    {
     "name": "stdout",
     "output_type": "stream",
     "text": [
      "()\n",
      "ritesh engg.\n"
     ]
    }
   ],
   "source": [
    "def greet_kwargs(*args, **kwargs):\n",
    "    print(args)\n",
    "    print(kwargs)\n",
    "\n",
    "## the above will expand like below\n",
    "def greet(*args, name=\"ritesh\", role = \"engg.\"):\n",
    "    print(args)\n",
    "    print(name, role)\n",
    "\n",
    "    \n",
    "val = {\"name\": \"ritesh\", \"role\": \"engg.\"}\n",
    "greet(**val)"
   ]
  },
  {
   "cell_type": "code",
   "execution_count": 299,
   "metadata": {},
   "outputs": [
    {
     "name": "stdout",
     "output_type": "stream",
     "text": [
      "4\n",
      "11.559999999999999\n",
      "(-9+40j)\n"
     ]
    }
   ],
   "source": [
    "## this works in python for free-> \n",
    "# polymorphism  but in C++ template class is needed.\n",
    "def square(x):\n",
    "    return x*x\n",
    "print(square(2))\n",
    "print(square(3.4))\n",
    "print(square(4+5j))"
   ]
  },
  {
   "cell_type": "code",
   "execution_count": 303,
   "metadata": {},
   "outputs": [
    {
     "ename": "TypeError",
     "evalue": "can't multiply sequence by non-int of type 'str'",
     "output_type": "error",
     "traceback": [
      "\u001b[1;31m---------------------------------------------------------------------------\u001b[0m",
      "\u001b[1;31mTypeError\u001b[0m                                 Traceback (most recent call last)",
      "\u001b[1;32m<ipython-input-303-52e695c26708>\u001b[0m in \u001b[0;36m<module>\u001b[1;34m()\u001b[0m\n\u001b[0;32m      1\u001b[0m \u001b[1;31m# but it fails here (since John* John is not valid)\u001b[0m\u001b[1;33m\u001b[0m\u001b[1;33m\u001b[0m\u001b[0m\n\u001b[1;32m----> 2\u001b[1;33m \u001b[0msquare\u001b[0m\u001b[1;33m(\u001b[0m\u001b[1;34m\"John\"\u001b[0m\u001b[1;33m)\u001b[0m\u001b[1;33m\u001b[0m\u001b[0m\n\u001b[0m",
      "\u001b[1;32m<ipython-input-299-1b1f9653a085>\u001b[0m in \u001b[0;36msquare\u001b[1;34m(x)\u001b[0m\n\u001b[0;32m      1\u001b[0m \u001b[1;32mdef\u001b[0m \u001b[0msquare\u001b[0m\u001b[1;33m(\u001b[0m\u001b[0mx\u001b[0m\u001b[1;33m)\u001b[0m\u001b[1;33m:\u001b[0m\u001b[1;33m\u001b[0m\u001b[0m\n\u001b[1;32m----> 2\u001b[1;33m     \u001b[1;32mreturn\u001b[0m \u001b[0mx\u001b[0m\u001b[1;33m*\u001b[0m\u001b[0mx\u001b[0m\u001b[1;33m\u001b[0m\u001b[0m\n\u001b[0m\u001b[0;32m      3\u001b[0m \u001b[0mprint\u001b[0m\u001b[1;33m(\u001b[0m\u001b[0msquare\u001b[0m\u001b[1;33m(\u001b[0m\u001b[1;36m2\u001b[0m\u001b[1;33m)\u001b[0m\u001b[1;33m)\u001b[0m\u001b[1;33m\u001b[0m\u001b[0m\n\u001b[0;32m      4\u001b[0m \u001b[0mprint\u001b[0m\u001b[1;33m(\u001b[0m\u001b[0msquare\u001b[0m\u001b[1;33m(\u001b[0m\u001b[1;36m3.4\u001b[0m\u001b[1;33m)\u001b[0m\u001b[1;33m)\u001b[0m\u001b[1;33m\u001b[0m\u001b[0m\n\u001b[0;32m      5\u001b[0m \u001b[0mprint\u001b[0m\u001b[1;33m(\u001b[0m\u001b[0msquare\u001b[0m\u001b[1;33m(\u001b[0m\u001b[1;36m4\u001b[0m\u001b[1;33m+\u001b[0m\u001b[1;36m5j\u001b[0m\u001b[1;33m)\u001b[0m\u001b[1;33m)\u001b[0m\u001b[1;33m\u001b[0m\u001b[0m\n",
      "\u001b[1;31mTypeError\u001b[0m: can't multiply sequence by non-int of type 'str'"
     ]
    }
   ],
   "source": [
    "# but it fails here (since John* John is not valid)\n",
    "square(\"John\")\n"
   ]
  },
  {
   "cell_type": "code",
   "execution_count": 304,
   "metadata": {},
   "outputs": [
    {
     "ename": "TypeError",
     "evalue": "can't multiply sequence by non-int of type 'list'",
     "output_type": "error",
     "traceback": [
      "\u001b[1;31m---------------------------------------------------------------------------\u001b[0m",
      "\u001b[1;31mTypeError\u001b[0m                                 Traceback (most recent call last)",
      "\u001b[1;32m<ipython-input-304-73078c97f375>\u001b[0m in \u001b[0;36m<module>\u001b[1;34m()\u001b[0m\n\u001b[1;32m----> 1\u001b[1;33m \u001b[0msquare\u001b[0m\u001b[1;33m(\u001b[0m\u001b[1;33m[\u001b[0m\u001b[1;36m1\u001b[0m\u001b[1;33m,\u001b[0m \u001b[1;36m2\u001b[0m\u001b[1;33m,\u001b[0m \u001b[1;36m3\u001b[0m\u001b[1;33m]\u001b[0m\u001b[1;33m)\u001b[0m\u001b[1;33m\u001b[0m\u001b[0m\n\u001b[0m",
      "\u001b[1;32m<ipython-input-299-1b1f9653a085>\u001b[0m in \u001b[0;36msquare\u001b[1;34m(x)\u001b[0m\n\u001b[0;32m      1\u001b[0m \u001b[1;32mdef\u001b[0m \u001b[0msquare\u001b[0m\u001b[1;33m(\u001b[0m\u001b[0mx\u001b[0m\u001b[1;33m)\u001b[0m\u001b[1;33m:\u001b[0m\u001b[1;33m\u001b[0m\u001b[0m\n\u001b[1;32m----> 2\u001b[1;33m     \u001b[1;32mreturn\u001b[0m \u001b[0mx\u001b[0m\u001b[1;33m*\u001b[0m\u001b[0mx\u001b[0m\u001b[1;33m\u001b[0m\u001b[0m\n\u001b[0m\u001b[0;32m      3\u001b[0m \u001b[0mprint\u001b[0m\u001b[1;33m(\u001b[0m\u001b[0msquare\u001b[0m\u001b[1;33m(\u001b[0m\u001b[1;36m2\u001b[0m\u001b[1;33m)\u001b[0m\u001b[1;33m)\u001b[0m\u001b[1;33m\u001b[0m\u001b[0m\n\u001b[0;32m      4\u001b[0m \u001b[0mprint\u001b[0m\u001b[1;33m(\u001b[0m\u001b[0msquare\u001b[0m\u001b[1;33m(\u001b[0m\u001b[1;36m3.4\u001b[0m\u001b[1;33m)\u001b[0m\u001b[1;33m)\u001b[0m\u001b[1;33m\u001b[0m\u001b[0m\n\u001b[0;32m      5\u001b[0m \u001b[0mprint\u001b[0m\u001b[1;33m(\u001b[0m\u001b[0msquare\u001b[0m\u001b[1;33m(\u001b[0m\u001b[1;36m4\u001b[0m\u001b[1;33m+\u001b[0m\u001b[1;36m5j\u001b[0m\u001b[1;33m)\u001b[0m\u001b[1;33m)\u001b[0m\u001b[1;33m\u001b[0m\u001b[0m\n",
      "\u001b[1;31mTypeError\u001b[0m: can't multiply sequence by non-int of type 'list'"
     ]
    }
   ],
   "source": [
    "square([1, 2, 3])"
   ]
  },
  {
   "cell_type": "code",
   "execution_count": 307,
   "metadata": {
    "scrolled": true
   },
   "outputs": [
    {
     "ename": "TypeError",
     "evalue": "Wrong type",
     "output_type": "error",
     "traceback": [
      "\u001b[1;31m---------------------------------------------------------------------------\u001b[0m",
      "\u001b[1;31mTypeError\u001b[0m                                 Traceback (most recent call last)",
      "\u001b[1;32m<ipython-input-307-290dd66e1b2b>\u001b[0m in \u001b[0;36m<module>\u001b[1;34m()\u001b[0m\n\u001b[0;32m      5\u001b[0m         \u001b[1;32mraise\u001b[0m \u001b[0mTypeError\u001b[0m\u001b[1;33m(\u001b[0m\u001b[1;34m\"Wrong type\"\u001b[0m\u001b[1;33m)\u001b[0m\u001b[1;33m\u001b[0m\u001b[0m\n\u001b[0;32m      6\u001b[0m     \u001b[1;32mreturn\u001b[0m \u001b[0mx\u001b[0m\u001b[1;33m*\u001b[0m\u001b[0mx\u001b[0m\u001b[1;33m\u001b[0m\u001b[0m\n\u001b[1;32m----> 7\u001b[1;33m \u001b[0msquare\u001b[0m\u001b[1;33m(\u001b[0m\u001b[1;34m\"John\"\u001b[0m\u001b[1;33m)\u001b[0m\u001b[1;33m\u001b[0m\u001b[0m\n\u001b[0m",
      "\u001b[1;32m<ipython-input-307-290dd66e1b2b>\u001b[0m in \u001b[0;36msquare\u001b[1;34m(x)\u001b[0m\n\u001b[0;32m      3\u001b[0m \u001b[1;32mdef\u001b[0m \u001b[0msquare\u001b[0m\u001b[1;33m(\u001b[0m\u001b[0mx\u001b[0m\u001b[1;33m)\u001b[0m\u001b[1;33m:\u001b[0m\u001b[1;33m\u001b[0m\u001b[0m\n\u001b[0;32m      4\u001b[0m     \u001b[1;32mif\u001b[0m \u001b[1;33m(\u001b[0m\u001b[0mtype\u001b[0m\u001b[1;33m(\u001b[0m\u001b[0mx\u001b[0m\u001b[1;33m)\u001b[0m \u001b[1;32mnot\u001b[0m \u001b[1;32min\u001b[0m \u001b[1;33m(\u001b[0m\u001b[0mint\u001b[0m\u001b[1;33m,\u001b[0m \u001b[0mfloat\u001b[0m\u001b[1;33m,\u001b[0m \u001b[0mcomplex\u001b[0m\u001b[1;33m)\u001b[0m\u001b[1;33m)\u001b[0m\u001b[1;33m:\u001b[0m\u001b[1;33m\u001b[0m\u001b[0m\n\u001b[1;32m----> 5\u001b[1;33m         \u001b[1;32mraise\u001b[0m \u001b[0mTypeError\u001b[0m\u001b[1;33m(\u001b[0m\u001b[1;34m\"Wrong type\"\u001b[0m\u001b[1;33m)\u001b[0m\u001b[1;33m\u001b[0m\u001b[0m\n\u001b[0m\u001b[0;32m      6\u001b[0m     \u001b[1;32mreturn\u001b[0m \u001b[0mx\u001b[0m\u001b[1;33m*\u001b[0m\u001b[0mx\u001b[0m\u001b[1;33m\u001b[0m\u001b[0m\n\u001b[0;32m      7\u001b[0m \u001b[0msquare\u001b[0m\u001b[1;33m(\u001b[0m\u001b[1;34m\"John\"\u001b[0m\u001b[1;33m)\u001b[0m\u001b[1;33m\u001b[0m\u001b[0m\n",
      "\u001b[1;31mTypeError\u001b[0m: Wrong type"
     ]
    }
   ],
   "source": [
    "# so we  need to create type based polymorphism:\n",
    "# polymorphism  but in C++ template class is needed.\n",
    "def square(x):\n",
    "    if (type(x) not in (int, float, complex)):\n",
    "        raise TypeError(\"Wrong type\")\n",
    "    return x*x\n",
    "square(\"John\")"
   ]
  },
  {
   "cell_type": "code",
   "execution_count": 30,
   "metadata": {},
   "outputs": [
    {
     "name": "stdout",
     "output_type": "stream",
     "text": [
      "[1, 2, 3, 4]\n",
      "__getiem__ called 3\n",
      "4\n",
      "__getiem__ called 10\n",
      "None\n",
      "['__class__', '__delattr__', '__dict__', '__dir__', '__doc__', '__eq__', '__format__', '__ge__', '__getattribute__', '__getitem__', '__gt__', '__hash__', '__init__', '__init_subclass__', '__le__', '__lt__', '__module__', '__ne__', '__new__', '__reduce__', '__reduce_ex__', '__repr__', '__setattr__', '__sizeof__', '__str__', '__subclasshook__', '__weakref__', 'append']\n"
     ]
    }
   ],
   "source": [
    "class mylist:\n",
    "    def __init__(self):\n",
    "        self.mylist = []\n",
    "    \n",
    "    def append(self, val):\n",
    "        self.mylist.append(val)\n",
    "    \n",
    "    def __getitem__(self, i):\n",
    "        print(\"__getiem__ called\", i)\n",
    "        if (i >= len(self.mylist)): return None\n",
    "        return self.mylist[i]\n",
    "#    def __getattribute__(self, *args, **kwargs):            ## cannot define now -> study later this does not work\n",
    "#        print(\"my called\", args, kwargs)\n",
    "\n",
    "l = mylist()\n",
    "l.append(1)\n",
    "l.append(2)\n",
    "l.append(3)\n",
    "l.append(4)\n",
    "\n",
    "print(l.mylist)\n",
    "print(l[3])\n",
    "print(l[10])\n",
    "print(dir(mylist))\n",
    "        \n",
    "    "
   ]
  },
  {
   "cell_type": "code",
   "execution_count": 19,
   "metadata": {},
   "outputs": [],
   "source": [
    "## this is an example of how [] (sq bracket operator is resolved)\n",
    "## In this an object is create from DataStore class and that object is indexed. \n",
    "# when the indexing happens it calls for __getitem__ method from the class which the obj belongs to.\n",
    "\n",
    "## only __data cannot be accessed from the object instance.\n",
    "# doubt confirm on this.\n",
    "class DataStore:\n",
    "    def __init__(self, filename=\"datastoretest.dat\"):\n",
    "        self.filename = filename\n",
    "    \n",
    "    def __enter__(self):\n",
    "        self.file = open(self.filename, \"r\")\n",
    "        self.__data = self.file.readlines()\n",
    "        return self\n",
    "    \n",
    "    def __exit__(self, et, ev, tb):\n",
    "        self.file.close()\n",
    "        del self.__data\n",
    "    \n",
    "    def __getitem__(self, i):\n",
    "        #print(self.__class__.__data)\n",
    "        print(\"__geitem__\", self._DataStore__data)\n",
    "        if (i >= len(self.__data)): return None\n",
    "        return self.__data[i]\n",
    "    \n",
    "    def __len__(self):\n",
    "        return len(self.__data)\n",
    "\n",
    "d = DataStore()\n",
    "\n",
    "        \n",
    "        \n",
    "        \n",
    "        "
   ]
  },
  {
   "cell_type": "code",
   "execution_count": 21,
   "metadata": {},
   "outputs": [
    {
     "name": "stdout",
     "output_type": "stream",
     "text": [
      "__geitem__ ['This is line1\\n', 'this is line 2']\n",
      "This is line1\n",
      "\n",
      "__geitem__ ['This is line1\\n', 'this is line 2']\n",
      "this is line 2\n",
      "__geitem__ ['This is line1\\n', 'this is line 2']\n",
      "None\n"
     ]
    }
   ],
   "source": [
    "#with DataStore(\"datastoretest.dat\") as data: ## this is same as below line\n",
    "with d as data:\n",
    "    print(data[0])\n",
    "    print(data[1])\n",
    "    print(data[5])"
   ]
  },
  {
   "cell_type": "code",
   "execution_count": 317,
   "metadata": {},
   "outputs": [
    {
     "name": "stdout",
     "output_type": "stream",
     "text": [
      "10\n",
      "20\n",
      "30\n",
      "40\n"
     ]
    }
   ],
   "source": [
    "## this is how loop iteration will work in a list in python\n",
    "\n",
    "data = [10, 20, 30, 40]\n",
    "if hasattr(data, \"__len__\"):\n",
    "    length = len(data)\n",
    "    i = 0\n",
    "    if (hasattr(data, \"__getitem__\")):\n",
    "        while i < length:\n",
    "            v = data.__getitem__(i)\n",
    "            print(v)\n",
    "            i += 1"
   ]
  },
  {
   "cell_type": "code",
   "execution_count": 316,
   "metadata": {},
   "outputs": [
    {
     "name": "stdout",
     "output_type": "stream",
     "text": [
      "10\n",
      "20\n",
      "30\n",
      "40\n"
     ]
    }
   ],
   "source": [
    "# For object to iterate it should have __len__ and __getitem__ attributes\n",
    "# the for loop does below\n",
    "# for v in data:\n",
    "#     print(v)\n",
    "# This is custom iterable objects.\n",
    "\n",
    "\n",
    "data = [10, 20, 30, 40]\n",
    "if hasattr(data, \"__len__\"):\n",
    "    length = len(data)\n",
    "    i = 0\n",
    "    if (hasattr(data, \"__getitem__\")):\n",
    "        while i < length:\n",
    "            v = data.__getitem__(i)\n",
    "            print(v)\n",
    "            i += 1\n",
    "            \n",
    "elif (hasattr(data, \"__iter__\")):\n",
    "    iterator = iter(data)\n",
    "    try:\n",
    "        while True:\n",
    "            v = next(iterator)\n",
    "            print(v)\n",
    "    except StopIteration:\n",
    "        pass\n",
    "    "
   ]
  },
  {
   "cell_type": "code",
   "execution_count": 319,
   "metadata": {},
   "outputs": [
    {
     "name": "stdout",
     "output_type": "stream",
     "text": [
      "<str_iterator object at 0x067A85B0>\n",
      "<list_iterator object at 0x067A89B0>\n",
      "<tuple_iterator object at 0x067A8770>\n"
     ]
    }
   ],
   "source": [
    "a = [10, 20, 3]\n",
    "b = (10, 20, 4)\n",
    "c =  \"This is a string\"\n",
    "\n",
    "iterator = iter(c)\n",
    "print(iterator)\n",
    "print(iter(a))\n",
    "print(iter(b))"
   ]
  },
  {
   "cell_type": "code",
   "execution_count": 320,
   "metadata": {},
   "outputs": [
    {
     "data": {
      "text/plain": [
       "'T'"
      ]
     },
     "execution_count": 320,
     "metadata": {},
     "output_type": "execute_result"
    }
   ],
   "source": [
    "next(iterator)    ## Thsi will keep extracing element."
   ]
  },
  {
   "cell_type": "code",
   "execution_count": 31,
   "metadata": {
    "scrolled": true
   },
   "outputs": [
    {
     "name": "stdout",
     "output_type": "stream",
     "text": [
      "<__main__.Myrange object at 0x048C7BF0>\n",
      "10\n",
      "13\n",
      "16\n",
      "19\n",
      "22\n"
     ]
    }
   ],
   "source": [
    "# to implement this objects\n",
    "\n",
    "class Myrange:\n",
    "    def __init__(self, start, stop, step):\n",
    "        self.start, self.stop, self.step = start, stop, step\n",
    "        self.v = self.start\n",
    "    \n",
    "    \n",
    "    def __iter__(self):   ## it I return self here, I should also have next method. Whatever iterator is returned should have next method\n",
    "        return self\n",
    "    \n",
    "    def __next__(self):\n",
    "        if (self.v > self.stop):\n",
    "            raise StopIteration\n",
    "        self.v = self.start\n",
    "        self.start += self.step\n",
    "        return self.v\n",
    "\n",
    "r = Myrange(10, 20, 3)\n",
    "i = iter(r)\n",
    "print(i)\n",
    "for v in r:\n",
    "    print(v)\n"
   ]
  },
  {
   "cell_type": "code",
   "execution_count": 325,
   "metadata": {},
   "outputs": [],
   "source": [
    "# range in python2 will create a listwhen it is declared itself.\n",
    "# so we should use xrange in python 2. \n",
    "# in python 3 range replaced xrange - > this is no xrange\n",
    "# a = range(10000)\n",
    "# sys.getsizeof(a)\n",
    "\n",
    "# all above are special methods."
   ]
  },
  {
   "cell_type": "code",
   "execution_count": 326,
   "metadata": {},
   "outputs": [],
   "source": [
    "# __method -> not so privately used.\n",
    "# print method will invoke __str__(self) object \"{}/{}\".format(self.n, self.d)\n",
    "# when we only enter object and press enter on screen\n",
    "## __repr__(self): return \"Fraaction({}/{})\".format(self.n, self.d)"
   ]
  },
  {
   "cell_type": "code",
   "execution_count": 327,
   "metadata": {},
   "outputs": [],
   "source": [
    "# from json file we can create objects\n",
    "# import  json\n",
    "# with open(\"objs.json\") as infile: objects = json.load(infile)\n",
    "# objects\n",
    "# >> {'Car': {'attributes': {'color': 'red'}, 'bases': []}, 'SUV': {'attributes': {}, 'bases': ['Car]}\n",
    "\n",
    "# classes = []\n",
    "# for class_name, class_info in objects.items():\n",
    "#      cl = type(class_name, tuple(class_info[\"bases\"]), class_info[\"attributes\"])\n",
    "#      classes.append(cl)\n",
    "# not classes will have - > [__main__.Car, __main__.Car, __main__.Car, __main__.SUV]"
   ]
  },
  {
   "cell_type": "code",
   "execution_count": 328,
   "metadata": {},
   "outputs": [],
   "source": [
    "## how to look up about python operators.\n",
    "## python website download the HTML documentation.\n",
    "# Chapter 4.6 ,4.7 on functions.\n",
    "# Language  Reference. \n",
    "# look up Chapter 3 in python documentation in LR.\n",
    "\n",
    "# Chapeter number 3 -> 3.3 -> special methods.\n",
    "#  __hash__method for hashable for your object\n",
    "\n",
    "# emulating conatiner types.\n",
    "## Chap 3.3.6\n",
    "# need __len__, __getitem__ for [] bracket.\n",
    "# sequence are ordered collection.\n",
    "# Emulating numeric types.\n",
    "# for context management (with -> __enter__)\n",
    "# async operators etc."
   ]
  },
  {
   "cell_type": "code",
   "execution_count": 329,
   "metadata": {},
   "outputs": [],
   "source": [
    "# python is purely object oreinted and does not need a class.\n",
    "#  class is needed when we need multiple objects multiple times.\n",
    "# for implementing logging should I create a class ?\n",
    "# only 1 log object\n",
    "# insead create a module and then import it. \n",
    "# Like logging module does not has a class only function  methods."
   ]
  },
  {
   "cell_type": "code",
   "execution_count": 333,
   "metadata": {},
   "outputs": [
    {
     "name": "stdout",
     "output_type": "stream",
     "text": [
      "Driving car\n"
     ]
    },
    {
     "ename": "TypeError",
     "evalue": "drive() missing 1 required positional argument: 'self'",
     "output_type": "error",
     "traceback": [
      "\u001b[1;31m---------------------------------------------------------------------------\u001b[0m",
      "\u001b[1;31mTypeError\u001b[0m                                 Traceback (most recent call last)",
      "\u001b[1;32m<ipython-input-333-587f5da38256>\u001b[0m in \u001b[0;36m<module>\u001b[1;34m()\u001b[0m\n\u001b[0;32m     12\u001b[0m \u001b[0mc\u001b[0m \u001b[1;33m=\u001b[0m \u001b[0mCar\u001b[0m\u001b[1;33m(\u001b[0m\u001b[1;33m)\u001b[0m\u001b[1;33m\u001b[0m\u001b[0m\n\u001b[0;32m     13\u001b[0m \u001b[0mc\u001b[0m\u001b[1;33m.\u001b[0m\u001b[0mdrive\u001b[0m\u001b[1;33m(\u001b[0m\u001b[1;33m)\u001b[0m\u001b[1;33m\u001b[0m\u001b[0m\n\u001b[1;32m---> 14\u001b[1;33m \u001b[0mCar\u001b[0m\u001b[1;33m.\u001b[0m\u001b[0mdrive\u001b[0m\u001b[1;33m(\u001b[0m\u001b[1;33m)\u001b[0m        \u001b[1;31m## this will not work since it needs a self argument-> instance of a class\u001b[0m\u001b[1;33m\u001b[0m\u001b[0m\n\u001b[0m\u001b[0;32m     15\u001b[0m \u001b[0mCar\u001b[0m\u001b[1;33m.\u001b[0m\u001b[0msell\u001b[0m\u001b[1;33m(\u001b[0m\u001b[1;33m)\u001b[0m\u001b[1;33m\u001b[0m\u001b[0m\n\u001b[0;32m     16\u001b[0m \u001b[1;33m\u001b[0m\u001b[0m\n",
      "\u001b[1;31mTypeError\u001b[0m: drive() missing 1 required positional argument: 'self'"
     ]
    }
   ],
   "source": [
    "# In python no static methods\n",
    "# classes are abstraction. Those are intangible.\n",
    "# I have a car -> only imagine. Can I drive  -> No. \n",
    "# I need a instance of it. so class methods should not be designed but in python3 we have a way -> e.g. sell()\n",
    "\n",
    "class Car:\n",
    "    def drive(self):\n",
    "        print(\"Driving car\")\n",
    "    \n",
    "    def sell():\n",
    "        print(\"sold a car..\")\n",
    "c = Car()\n",
    "c.drive()\n",
    "Car.drive()        ## this will not work since it needs a self argument-> instance of a class\n",
    "Car.sell()\n",
    "\n",
    "        "
   ]
  },
  {
   "cell_type": "code",
   "execution_count": 334,
   "metadata": {},
   "outputs": [
    {
     "name": "stdout",
     "output_type": "stream",
     "text": [
      "sold a car..\n"
     ]
    },
    {
     "ename": "TypeError",
     "evalue": "sell() takes 0 positional arguments but 1 was given",
     "output_type": "error",
     "traceback": [
      "\u001b[1;31m---------------------------------------------------------------------------\u001b[0m",
      "\u001b[1;31mTypeError\u001b[0m                                 Traceback (most recent call last)",
      "\u001b[1;32m<ipython-input-334-81fc24bf2299>\u001b[0m in \u001b[0;36m<module>\u001b[1;34m()\u001b[0m\n\u001b[0;32m      1\u001b[0m \u001b[0mCar\u001b[0m\u001b[1;33m.\u001b[0m\u001b[0msell\u001b[0m\u001b[1;33m(\u001b[0m\u001b[1;33m)\u001b[0m\u001b[1;33m\u001b[0m\u001b[0m\n\u001b[1;32m----> 2\u001b[1;33m \u001b[0mc\u001b[0m\u001b[1;33m.\u001b[0m\u001b[0msell\u001b[0m\u001b[1;33m(\u001b[0m\u001b[1;33m)\u001b[0m\u001b[1;33m\u001b[0m\u001b[0m\n\u001b[0m",
      "\u001b[1;31mTypeError\u001b[0m: sell() takes 0 positional arguments but 1 was given"
     ]
    }
   ],
   "source": [
    "Car.sell()\n",
    "c.sell()"
   ]
  },
  {
   "cell_type": "code",
   "execution_count": 38,
   "metadata": {},
   "outputs": [
    {
     "name": "stdout",
     "output_type": "stream",
     "text": [
      "sold a car..\n",
      "sold a car..\n"
     ]
    }
   ],
   "source": [
    "class Car:\n",
    "    def drive(self):\n",
    "        print(\"Driving car\")\n",
    "    \n",
    "    @staticmethod                      # if we comment this we will get an error Typeerror\n",
    "    def sell():\n",
    "        print(\"sold a car..\")\n",
    "c = Car()\n",
    "c.sell() # this does not work without staticmethod  because so we need to declare static method\n",
    "Car.sell()     # this also works\n",
    "\n",
    "#staticmethod is only class method\n",
    "# These dont need instances."
   ]
  },
  {
   "cell_type": "code",
   "execution_count": 39,
   "metadata": {},
   "outputs": [
    {
     "name": "stdout",
     "output_type": "stream",
     "text": [
      "sold a car..\n",
      "c =  <__main__.Car object at 0x048C7450>\n"
     ]
    },
    {
     "ename": "TypeError",
     "evalue": "testfn() missing 1 required positional argument: 'c'",
     "output_type": "error",
     "traceback": [
      "\u001b[1;31m---------------------------------------------------------------------------\u001b[0m",
      "\u001b[1;31mTypeError\u001b[0m                                 Traceback (most recent call last)",
      "\u001b[1;32m<ipython-input-39-7c6dce6356d7>\u001b[0m in \u001b[0;36m<module>\u001b[1;34m()\u001b[0m\n\u001b[0;32m     15\u001b[0m \u001b[1;33m\u001b[0m\u001b[0m\n\u001b[0;32m     16\u001b[0m \u001b[0mc\u001b[0m\u001b[1;33m.\u001b[0m\u001b[0mtestfn\u001b[0m\u001b[1;33m(\u001b[0m\u001b[1;33m)\u001b[0m\u001b[1;33m\u001b[0m\u001b[0m\n\u001b[1;32m---> 17\u001b[1;33m \u001b[0mCar\u001b[0m\u001b[1;33m.\u001b[0m\u001b[0mtestfn\u001b[0m\u001b[1;33m(\u001b[0m\u001b[1;33m)\u001b[0m\u001b[1;33m\u001b[0m\u001b[0m\n\u001b[0m",
      "\u001b[1;31mTypeError\u001b[0m: testfn() missing 1 required positional argument: 'c'"
     ]
    }
   ],
   "source": [
    "#staticmethod is only class method\n",
    "# These dont need instances.\n",
    "class Car:\n",
    "    def drive(self):\n",
    "        print(\"Driving car\")\n",
    "    \n",
    "    @staticmethod                      # if we comment this we will get an error Typeerror\n",
    "    def sell():\n",
    "        print(\"sold a car..\")\n",
    "    \n",
    "    def testfn(c):\n",
    "        print(\"c = \", c)\n",
    "c = Car()\n",
    "c.sell() # this does not work  because so we need to declare static method\n",
    "\n",
    "c.testfn()\n",
    "Car.testfn()"
   ]
  },
  {
   "cell_type": "code",
   "execution_count": 340,
   "metadata": {},
   "outputs": [
    {
     "name": "stdout",
     "output_type": "stream",
     "text": [
      "sold a car..\n",
      "c =  <class '__main__.Car'>\n",
      "c =  <class '__main__.Car'>\n"
     ]
    }
   ],
   "source": [
    "#staticmethod is only class method\n",
    "# These dont need instances.\n",
    "class Car:\n",
    "    def drive(self):\n",
    "        print(\"Driving car\")\n",
    "    \n",
    "    @staticmethod                      # if we comment this we will get an error Typeerror\n",
    "    def sell():\n",
    "        print(\"sold a car..\")\n",
    "    \n",
    "    @classmethod\n",
    "    def testfn(c):\n",
    "        print(\"c = \", c)\n",
    "c = Car()\n",
    "c.sell() # this does not work  because so we need to declare static method\n",
    "\n",
    "c.testfn()\n",
    "Car.testfn()"
   ]
  },
  {
   "cell_type": "code",
   "execution_count": 344,
   "metadata": {},
   "outputs": [
    {
     "name": "stdout",
     "output_type": "stream",
     "text": [
      "c =  <class '__main__.Car'>\n",
      "c =  <class '__main__.Car'>\n",
      "c =  <class '__main__.Car'>\n",
      "3\n",
      "3 3 3\n"
     ]
    }
   ],
   "source": [
    "#staticmethod is only class method\n",
    "# These dont need instances.\n",
    "# classmethod will take the class name and not the instance. \n",
    "# it will operate on class and not instance\n",
    "class Car:\n",
    "    instance_count = 0\n",
    "    def __init__(self):\n",
    "        \n",
    "        self.inc()\n",
    "\n",
    "    def drive(self):\n",
    "        print(\"Driving car\")\n",
    "    \n",
    "    @staticmethod                      # if we comment this we will get an error Typeerror\n",
    "    def sell():\n",
    "        print(\"sold a car..\")\n",
    "    \n",
    "    @classmethod\n",
    "    def inc(c):\n",
    "        c.instance_count += 1\n",
    "        print(\"c = \", c)\n",
    "    \n",
    "    @classmethod\n",
    "    def getcount(c):\n",
    "        return c.instance_count\n",
    "\n",
    "c1 = Car()\n",
    "c2 = Car()\n",
    "c3 = Car()\n",
    "print(Car.getcount())\n",
    "print(c3.getcount(), c2.getcount(), c1.getcount())"
   ]
  },
  {
   "cell_type": "code",
   "execution_count": 41,
   "metadata": {},
   "outputs": [
    {
     "name": "stdout",
     "output_type": "stream",
     "text": [
      "23\n",
      "Static: ()\n",
      "Class: (<class '__main__.Kls'>,)\n",
      "Static: ()\n",
      "Class: (<class '__main__.Kls'>,)\n"
     ]
    },
    {
     "ename": "TypeError",
     "evalue": "printd() missing 1 required positional argument: 'self'",
     "output_type": "error",
     "traceback": [
      "\u001b[1;31m---------------------------------------------------------------------------\u001b[0m",
      "\u001b[1;31mTypeError\u001b[0m                                 Traceback (most recent call last)",
      "\u001b[1;32m<ipython-input-41-09669d4d1a9b>\u001b[0m in \u001b[0;36m<module>\u001b[1;34m()\u001b[0m\n\u001b[0;32m     21\u001b[0m \u001b[0mKls\u001b[0m\u001b[1;33m.\u001b[0m\u001b[0msmethod\u001b[0m\u001b[1;33m(\u001b[0m\u001b[1;33m)\u001b[0m\u001b[1;33m\u001b[0m\u001b[0m\n\u001b[0;32m     22\u001b[0m \u001b[0mKls\u001b[0m\u001b[1;33m.\u001b[0m\u001b[0mcmethod\u001b[0m\u001b[1;33m(\u001b[0m\u001b[1;33m)\u001b[0m\u001b[1;33m\u001b[0m\u001b[0m\n\u001b[1;32m---> 23\u001b[1;33m \u001b[0mKls\u001b[0m\u001b[1;33m.\u001b[0m\u001b[0mprintd\u001b[0m\u001b[1;33m(\u001b[0m\u001b[1;33m)\u001b[0m\u001b[1;33m\u001b[0m\u001b[0m\n\u001b[0m",
      "\u001b[1;31mTypeError\u001b[0m: printd() missing 1 required positional argument: 'self'"
     ]
    }
   ],
   "source": [
    "class Kls(object):\n",
    "    def __init__(self, data):\n",
    "        self.data = data\n",
    " \n",
    "    def printd(self):\n",
    "        print(self.data)\n",
    " \n",
    "    @staticmethod\n",
    "    def smethod(*arg):\n",
    "        print('Static:', arg)\n",
    " \n",
    "    @classmethod\n",
    "    def cmethod(*arg):\n",
    "        print('Class:', arg)\n",
    "\n",
    "ik = Kls(23)\n",
    "ik.printd()\n",
    "ik.smethod()\n",
    "ik.cmethod()\n",
    "\n",
    "Kls.smethod()\n",
    "Kls.cmethod()\n",
    "Kls.printd()"
   ]
  },
  {
   "cell_type": "code",
   "execution_count": 345,
   "metadata": {},
   "outputs": [
    {
     "name": "stdout",
     "output_type": "stream",
     "text": [
      "10\n"
     ]
    }
   ],
   "source": [
    "## Callable object\n",
    "# static/accumulator pattern -> design pattern\n",
    "\n",
    "class Accumulator:\n",
    "    def __init__(self):\n",
    "        self.v = 0\n",
    "    \n",
    "    def __call__(self, v = None):           #this function call when we call ()  a object\n",
    "        if (v != None):\n",
    "            self.v += v\n",
    "        return self.v\n",
    "    \n",
    "    \n",
    "a = Accumulator()\n",
    "print(a(10))"
   ]
  },
  {
   "cell_type": "code",
   "execution_count": 346,
   "metadata": {},
   "outputs": [
    {
     "name": "stdout",
     "output_type": "stream",
     "text": [
      "30\n",
      "60\n"
     ]
    }
   ],
   "source": [
    "## now this __call__ is a function which is maintaining a state \n",
    "print(a(20))\n",
    "print(a(30))"
   ]
  },
  {
   "cell_type": "code",
   "execution_count": 347,
   "metadata": {},
   "outputs": [
    {
     "name": "stdout",
     "output_type": "stream",
     "text": [
      "<__main__.Accumulator object at 0x067C7610>\n"
     ]
    }
   ],
   "source": [
    "print(a)"
   ]
  },
  {
   "cell_type": "code",
   "execution_count": 348,
   "metadata": {},
   "outputs": [
    {
     "name": "stdout",
     "output_type": "stream",
     "text": [
      "60\n"
     ]
    }
   ],
   "source": [
    "print(a())         ## this prints the last value"
   ]
  },
  {
   "cell_type": "code",
   "execution_count": 349,
   "metadata": {},
   "outputs": [
    {
     "ename": "AttributeError",
     "evalue": "'DataStore' object has no attribute 'name'",
     "output_type": "error",
     "traceback": [
      "\u001b[1;31m---------------------------------------------------------------------------\u001b[0m",
      "\u001b[1;31mAttributeError\u001b[0m                            Traceback (most recent call last)",
      "\u001b[1;32m<ipython-input-349-22ad4fd66758>\u001b[0m in \u001b[0;36m<module>\u001b[1;34m()\u001b[0m\n\u001b[0;32m      5\u001b[0m \u001b[1;33m\u001b[0m\u001b[0m\n\u001b[0;32m      6\u001b[0m \u001b[0md\u001b[0m \u001b[1;33m=\u001b[0m \u001b[0mDataStore\u001b[0m\u001b[1;33m(\u001b[0m\u001b[1;33m)\u001b[0m\u001b[1;33m\u001b[0m\u001b[0m\n\u001b[1;32m----> 7\u001b[1;33m \u001b[0md\u001b[0m\u001b[1;33m.\u001b[0m\u001b[0mname\u001b[0m\u001b[1;33m\u001b[0m\u001b[0m\n\u001b[0m",
      "\u001b[1;31mAttributeError\u001b[0m: 'DataStore' object has no attribute 'name'"
     ]
    }
   ],
   "source": [
    "class DataStore:\n",
    "    def __init__(self):\n",
    "        pass\n",
    "    \n",
    "\n",
    "d = DataStore()\n",
    "d.name                ## attribute error which is not defien -> Attribute error.\n"
   ]
  },
  {
   "cell_type": "code",
   "execution_count": 350,
   "metadata": {},
   "outputs": [
    {
     "data": {
      "text/plain": [
       "'Adam'"
      ]
     },
     "execution_count": 350,
     "metadata": {},
     "output_type": "execute_result"
    }
   ],
   "source": [
    "class DataStore:\n",
    "    def __init__(self):\n",
    "        self.name = \"Adam\"\n",
    "        pass\n",
    "    \n",
    "\n",
    "d = DataStore()\n",
    "d.name                ## attribute error which is not defien -> Attribute error."
   ]
  },
  {
   "cell_type": "code",
   "execution_count": 44,
   "metadata": {},
   "outputs": [
    {
     "name": "stdout",
     "output_type": "stream",
     "text": [
      "getting value for attr =  anything\n"
     ]
    },
    {
     "data": {
      "text/plain": [
       "100"
      ]
     },
     "execution_count": 44,
     "metadata": {},
     "output_type": "execute_result"
    }
   ],
   "source": [
    "## accessor pattern -:\n",
    "# getattr attribute will be called blindly if that attribute is not resolvaeble. \n",
    "# so dynamically we can resolve wat it should have the value.\n",
    "# \n",
    "\n",
    "class DataStore:\n",
    "    def __init__(self):\n",
    "        self.name = \"Adam\"\n",
    "    \n",
    "    def __getattr__(self, attr):\n",
    "        print(\"getting value for attr = \", attr)\n",
    "        return 100\n",
    "    \n",
    "\n",
    "d = DataStore()\n",
    "d.name                ## __getattr__ not caled for name since it is resolvable\n",
    "#d.role\n",
    "d.anything"
   ]
  },
  {
   "cell_type": "code",
   "execution_count": 45,
   "metadata": {},
   "outputs": [],
   "source": [
    "## use case of above is :- Accessor pattern\n",
    "store = {}\n",
    "\n",
    "class DataStore:\n",
    "    def __init__(self):\n",
    "        store[id(self)] = {}\n",
    "    \n",
    "    def __getattr__(self, attr):\n",
    "        print(\"geattr called for attr =\\n\", attr)\n",
    "        return store[id(self)].get(attr)\n",
    "    \n",
    "    def __setattr__(self, attr, value):\n",
    "        print(\"settattr called = \", attr)\n",
    "        store[id(self)][attr] = value\n",
    "\n"
   ]
  },
  {
   "cell_type": "code",
   "execution_count": 46,
   "metadata": {},
   "outputs": [
    {
     "name": "stdout",
     "output_type": "stream",
     "text": [
      "settattr called =  name\n",
      "settattr called =  role\n",
      "settattr called =  place\n"
     ]
    }
   ],
   "source": [
    "d1 = DataStore()\n",
    "d1.name =\"John\"\n",
    "d1.role = \"Admin\"\n",
    "d1.place = \"Hyderabad\""
   ]
  },
  {
   "cell_type": "code",
   "execution_count": 50,
   "metadata": {},
   "outputs": [
    {
     "name": "stdout",
     "output_type": "stream",
     "text": [
      "{}\n",
      "{76313104: {'name': 'John', 'role': 'Admin', 'place': 'Hyderabad'}}\n",
      "geattr called for attr =\n",
      " _ipython_canary_method_should_not_exist_\n",
      "geattr called for attr =\n",
      " _ipython_display_\n",
      "geattr called for attr =\n",
      " _ipython_canary_method_should_not_exist_\n",
      "geattr called for attr =\n",
      " _repr_mimebundle_\n",
      "geattr called for attr =\n",
      " _ipython_canary_method_should_not_exist_\n",
      "geattr called for attr =\n",
      " _repr_html_\n",
      "geattr called for attr =\n",
      " _ipython_canary_method_should_not_exist_\n",
      "geattr called for attr =\n",
      " _repr_markdown_\n",
      "geattr called for attr =\n",
      " _ipython_canary_method_should_not_exist_\n",
      "geattr called for attr =\n",
      " _repr_svg_\n",
      "geattr called for attr =\n",
      " _ipython_canary_method_should_not_exist_\n",
      "geattr called for attr =\n",
      " _repr_png_\n",
      "geattr called for attr =\n",
      " _ipython_canary_method_should_not_exist_\n",
      "geattr called for attr =\n",
      " _repr_pdf_\n",
      "geattr called for attr =\n",
      " _ipython_canary_method_should_not_exist_\n",
      "geattr called for attr =\n",
      " _repr_jpeg_\n",
      "geattr called for attr =\n",
      " _ipython_canary_method_should_not_exist_\n",
      "geattr called for attr =\n",
      " _repr_latex_\n",
      "geattr called for attr =\n",
      " _ipython_canary_method_should_not_exist_\n",
      "geattr called for attr =\n",
      " _repr_json_\n",
      "geattr called for attr =\n",
      " _ipython_canary_method_should_not_exist_\n",
      "geattr called for attr =\n",
      " _repr_javascript_\n"
     ]
    },
    {
     "data": {
      "text/plain": [
       "<__main__.DataStore at 0x48c7210>"
      ]
     },
     "execution_count": 50,
     "metadata": {},
     "output_type": "execute_result"
    }
   ],
   "source": [
    "print(d1.__dict__)\n",
    "print(store)\n",
    "d1"
   ]
  },
  {
   "cell_type": "code",
   "execution_count": 362,
   "metadata": {},
   "outputs": [],
   "source": [
    "\n",
    "## ACCESSOR patterns example.\n",
    "# this creates a sepearte dict inside a __dict__ and then controls using getattr and setattr\n",
    "store = {}\n",
    "\n",
    "class DataStore:\n",
    "    private_members = (\"salary\", \"role\")\n",
    "    read_only  = (\"name\", )\n",
    "    \n",
    "    def __init__(self, name, salary, role):\n",
    "        self.__dict__['__store'] = {}\n",
    "        self.__dict__['__store'][\"name\"] = name\n",
    "        self.__dict__['__store'][\"salary\"] = salary\n",
    "        self.__dict__['__store'][\"role\"] = role\n",
    "    \n",
    "    def __getattr__(self, attr):\n",
    "        if attr in DataStore.private_members:\n",
    "            raise AttributeError(\"Cannot access private attrsr\")\n",
    "        return self.__dict__['__store'][attr]\n",
    "        \n",
    "    \n",
    "    def __setattr__(self, attr, value):\n",
    "        if attr in DataStore.private_members or attr in DataStore.read_only:\n",
    "            raise AttributeError (\"Cannot modify prvi attr\")\n",
    "        self.__dict__['__store'][attr] = value"
   ]
  },
  {
   "cell_type": "code",
   "execution_count": 363,
   "metadata": {},
   "outputs": [],
   "source": [
    "a = DataStore(\"adrian\", 10000, \"Admin\")"
   ]
  },
  {
   "cell_type": "code",
   "execution_count": 364,
   "metadata": {},
   "outputs": [],
   "source": [
    "a.home = \"ritesh\""
   ]
  },
  {
   "cell_type": "code",
   "execution_count": 365,
   "metadata": {},
   "outputs": [
    {
     "ename": "AttributeError",
     "evalue": "Cannot modify prvi attr",
     "output_type": "error",
     "traceback": [
      "\u001b[1;31m---------------------------------------------------------------------------\u001b[0m",
      "\u001b[1;31mAttributeError\u001b[0m                            Traceback (most recent call last)",
      "\u001b[1;32m<ipython-input-365-05d13764faba>\u001b[0m in \u001b[0;36m<module>\u001b[1;34m()\u001b[0m\n\u001b[1;32m----> 1\u001b[1;33m \u001b[0ma\u001b[0m\u001b[1;33m.\u001b[0m\u001b[0msalary\u001b[0m \u001b[1;33m=\u001b[0m \u001b[1;36m1000\u001b[0m\u001b[1;33m\u001b[0m\u001b[0m\n\u001b[0m",
      "\u001b[1;32m<ipython-input-362-064de6b9fb3d>\u001b[0m in \u001b[0;36m__setattr__\u001b[1;34m(self, attr, value)\u001b[0m\n\u001b[0;32m     19\u001b[0m     \u001b[1;32mdef\u001b[0m \u001b[0m__setattr__\u001b[0m\u001b[1;33m(\u001b[0m\u001b[0mself\u001b[0m\u001b[1;33m,\u001b[0m \u001b[0mattr\u001b[0m\u001b[1;33m,\u001b[0m \u001b[0mvalue\u001b[0m\u001b[1;33m)\u001b[0m\u001b[1;33m:\u001b[0m\u001b[1;33m\u001b[0m\u001b[0m\n\u001b[0;32m     20\u001b[0m         \u001b[1;32mif\u001b[0m \u001b[0mattr\u001b[0m \u001b[1;32min\u001b[0m \u001b[0mDataStore\u001b[0m\u001b[1;33m.\u001b[0m\u001b[0mprivate_members\u001b[0m \u001b[1;32mor\u001b[0m \u001b[0mattr\u001b[0m \u001b[1;32min\u001b[0m \u001b[0mDataStore\u001b[0m\u001b[1;33m.\u001b[0m\u001b[0mread_only\u001b[0m\u001b[1;33m:\u001b[0m\u001b[1;33m\u001b[0m\u001b[0m\n\u001b[1;32m---> 21\u001b[1;33m             \u001b[1;32mraise\u001b[0m \u001b[0mAttributeError\u001b[0m \u001b[1;33m(\u001b[0m\u001b[1;34m\"Cannot modify prvi attr\"\u001b[0m\u001b[1;33m)\u001b[0m\u001b[1;33m\u001b[0m\u001b[0m\n\u001b[0m\u001b[0;32m     22\u001b[0m         \u001b[0mself\u001b[0m\u001b[1;33m.\u001b[0m\u001b[0m__dict__\u001b[0m\u001b[1;33m[\u001b[0m\u001b[1;34m'__store'\u001b[0m\u001b[1;33m]\u001b[0m\u001b[1;33m[\u001b[0m\u001b[0mattr\u001b[0m\u001b[1;33m]\u001b[0m \u001b[1;33m=\u001b[0m \u001b[0mvalue\u001b[0m\u001b[1;33m\u001b[0m\u001b[0m\n",
      "\u001b[1;31mAttributeError\u001b[0m: Cannot modify prvi attr"
     ]
    }
   ],
   "source": [
    "a.salary = 1000"
   ]
  },
  {
   "cell_type": "code",
   "execution_count": 366,
   "metadata": {},
   "outputs": [
    {
     "ename": "AttributeError",
     "evalue": "Cannot access private attrsr",
     "output_type": "error",
     "traceback": [
      "\u001b[1;31m---------------------------------------------------------------------------\u001b[0m",
      "\u001b[1;31mAttributeError\u001b[0m                            Traceback (most recent call last)",
      "\u001b[1;32m<ipython-input-366-3d5fb20b515d>\u001b[0m in \u001b[0;36m<module>\u001b[1;34m()\u001b[0m\n\u001b[1;32m----> 1\u001b[1;33m \u001b[0mprint\u001b[0m\u001b[1;33m(\u001b[0m\u001b[0ma\u001b[0m\u001b[1;33m.\u001b[0m\u001b[0msalary\u001b[0m\u001b[1;33m)\u001b[0m\u001b[1;33m\u001b[0m\u001b[0m\n\u001b[0m",
      "\u001b[1;32m<ipython-input-362-064de6b9fb3d>\u001b[0m in \u001b[0;36m__getattr__\u001b[1;34m(self, attr)\u001b[0m\n\u001b[0;32m     13\u001b[0m     \u001b[1;32mdef\u001b[0m \u001b[0m__getattr__\u001b[0m\u001b[1;33m(\u001b[0m\u001b[0mself\u001b[0m\u001b[1;33m,\u001b[0m \u001b[0mattr\u001b[0m\u001b[1;33m)\u001b[0m\u001b[1;33m:\u001b[0m\u001b[1;33m\u001b[0m\u001b[0m\n\u001b[0;32m     14\u001b[0m         \u001b[1;32mif\u001b[0m \u001b[0mattr\u001b[0m \u001b[1;32min\u001b[0m \u001b[0mDataStore\u001b[0m\u001b[1;33m.\u001b[0m\u001b[0mprivate_members\u001b[0m\u001b[1;33m:\u001b[0m\u001b[1;33m\u001b[0m\u001b[0m\n\u001b[1;32m---> 15\u001b[1;33m             \u001b[1;32mraise\u001b[0m \u001b[0mAttributeError\u001b[0m\u001b[1;33m(\u001b[0m\u001b[1;34m\"Cannot access private attrsr\"\u001b[0m\u001b[1;33m)\u001b[0m\u001b[1;33m\u001b[0m\u001b[0m\n\u001b[0m\u001b[0;32m     16\u001b[0m         \u001b[1;32mreturn\u001b[0m \u001b[0mself\u001b[0m\u001b[1;33m.\u001b[0m\u001b[0m__dict__\u001b[0m\u001b[1;33m[\u001b[0m\u001b[1;34m'__store'\u001b[0m\u001b[1;33m]\u001b[0m\u001b[1;33m[\u001b[0m\u001b[0mattr\u001b[0m\u001b[1;33m]\u001b[0m\u001b[1;33m\u001b[0m\u001b[0m\n\u001b[0;32m     17\u001b[0m \u001b[1;33m\u001b[0m\u001b[0m\n",
      "\u001b[1;31mAttributeError\u001b[0m: Cannot access private attrsr"
     ]
    }
   ],
   "source": [
    "print(a.salary)"
   ]
  },
  {
   "cell_type": "code",
   "execution_count": 368,
   "metadata": {},
   "outputs": [
    {
     "name": "stdout",
     "output_type": "stream",
     "text": [
      "adrian\n"
     ]
    }
   ],
   "source": [
    "print(a.name)"
   ]
  },
  {
   "cell_type": "code",
   "execution_count": 369,
   "metadata": {},
   "outputs": [],
   "source": [
    "a.__store[\"salary\"] = 100"
   ]
  },
  {
   "cell_type": "code",
   "execution_count": 371,
   "metadata": {},
   "outputs": [
    {
     "ename": "AttributeError",
     "evalue": "Cannot modify prvi attr",
     "output_type": "error",
     "traceback": [
      "\u001b[1;31m---------------------------------------------------------------------------\u001b[0m",
      "\u001b[1;31mAttributeError\u001b[0m                            Traceback (most recent call last)",
      "\u001b[1;32m<ipython-input-371-994b57f3f444>\u001b[0m in \u001b[0;36m<module>\u001b[1;34m()\u001b[0m\n\u001b[1;32m----> 1\u001b[1;33m \u001b[0ma\u001b[0m\u001b[1;33m.\u001b[0m\u001b[0mname\u001b[0m \u001b[1;33m=\u001b[0m \u001b[1;34m\"ritesh\"\u001b[0m\u001b[1;33m\u001b[0m\u001b[0m\n\u001b[0m",
      "\u001b[1;32m<ipython-input-362-064de6b9fb3d>\u001b[0m in \u001b[0;36m__setattr__\u001b[1;34m(self, attr, value)\u001b[0m\n\u001b[0;32m     19\u001b[0m     \u001b[1;32mdef\u001b[0m \u001b[0m__setattr__\u001b[0m\u001b[1;33m(\u001b[0m\u001b[0mself\u001b[0m\u001b[1;33m,\u001b[0m \u001b[0mattr\u001b[0m\u001b[1;33m,\u001b[0m \u001b[0mvalue\u001b[0m\u001b[1;33m)\u001b[0m\u001b[1;33m:\u001b[0m\u001b[1;33m\u001b[0m\u001b[0m\n\u001b[0;32m     20\u001b[0m         \u001b[1;32mif\u001b[0m \u001b[0mattr\u001b[0m \u001b[1;32min\u001b[0m \u001b[0mDataStore\u001b[0m\u001b[1;33m.\u001b[0m\u001b[0mprivate_members\u001b[0m \u001b[1;32mor\u001b[0m \u001b[0mattr\u001b[0m \u001b[1;32min\u001b[0m \u001b[0mDataStore\u001b[0m\u001b[1;33m.\u001b[0m\u001b[0mread_only\u001b[0m\u001b[1;33m:\u001b[0m\u001b[1;33m\u001b[0m\u001b[0m\n\u001b[1;32m---> 21\u001b[1;33m             \u001b[1;32mraise\u001b[0m \u001b[0mAttributeError\u001b[0m \u001b[1;33m(\u001b[0m\u001b[1;34m\"Cannot modify prvi attr\"\u001b[0m\u001b[1;33m)\u001b[0m\u001b[1;33m\u001b[0m\u001b[0m\n\u001b[0m\u001b[0;32m     22\u001b[0m         \u001b[0mself\u001b[0m\u001b[1;33m.\u001b[0m\u001b[0m__dict__\u001b[0m\u001b[1;33m[\u001b[0m\u001b[1;34m'__store'\u001b[0m\u001b[1;33m]\u001b[0m\u001b[1;33m[\u001b[0m\u001b[0mattr\u001b[0m\u001b[1;33m]\u001b[0m \u001b[1;33m=\u001b[0m \u001b[0mvalue\u001b[0m\u001b[1;33m\u001b[0m\u001b[0m\n",
      "\u001b[1;31mAttributeError\u001b[0m: Cannot modify prvi attr"
     ]
    }
   ],
   "source": [
    "a.name = \"ritesh\""
   ]
  },
  {
   "cell_type": "code",
   "execution_count": 372,
   "metadata": {},
   "outputs": [],
   "source": [
    "a.__store[\"name\"] = \"ritesh\"     ## hack to access the private members as well."
   ]
  },
  {
   "cell_type": "code",
   "execution_count": 373,
   "metadata": {},
   "outputs": [
    {
     "name": "stdout",
     "output_type": "stream",
     "text": [
      "ritesh\n"
     ]
    }
   ],
   "source": [
    "print(a.name)"
   ]
  },
  {
   "cell_type": "code",
   "execution_count": 374,
   "metadata": {},
   "outputs": [],
   "source": [
    "### NESTER functions:\n",
    "# because all definitions inside function body is local sicne namspace is different\n",
    "def foo():\n",
    "    print(\"Inside foo\")\n",
    "    \n",
    "    def bar():\n",
    "        print(\"inside bar\")\n",
    "    \n",
    "    bar()\n",
    "    bar()\n",
    "    bar()"
   ]
  },
  {
   "cell_type": "code",
   "execution_count": 375,
   "metadata": {},
   "outputs": [
    {
     "name": "stdout",
     "output_type": "stream",
     "text": [
      "Inside foo\n",
      "inside bar\n",
      "inside bar\n",
      "inside bar\n"
     ]
    }
   ],
   "source": [
    "foo()"
   ]
  },
  {
   "cell_type": "code",
   "execution_count": 376,
   "metadata": {},
   "outputs": [
    {
     "ename": "NameError",
     "evalue": "name 'bar' is not defined",
     "output_type": "error",
     "traceback": [
      "\u001b[1;31m---------------------------------------------------------------------------\u001b[0m",
      "\u001b[1;31mNameError\u001b[0m                                 Traceback (most recent call last)",
      "\u001b[1;32m<ipython-input-376-226d01f48125>\u001b[0m in \u001b[0;36m<module>\u001b[1;34m()\u001b[0m\n\u001b[1;32m----> 1\u001b[1;33m \u001b[0mbar\u001b[0m\u001b[1;33m(\u001b[0m\u001b[1;33m)\u001b[0m\u001b[1;33m\u001b[0m\u001b[0m\n\u001b[0m",
      "\u001b[1;31mNameError\u001b[0m: name 'bar' is not defined"
     ]
    }
   ],
   "source": [
    "bar()    ## since namespace does not define bar -> it is a local variable.\n",
    "\n",
    "## the above is encapsulation example"
   ]
  },
  {
   "cell_type": "code",
   "execution_count": 379,
   "metadata": {},
   "outputs": [],
   "source": [
    "def foo():\n",
    "    print(\"Inside foo\")\n",
    "    \n",
    "    def bar():\n",
    "        print(\"inside bar\")\n",
    "    \n",
    "    return bar                            ### note no paranthesis since we need to return the reference to bar\n"
   ]
  },
  {
   "cell_type": "code",
   "execution_count": 380,
   "metadata": {},
   "outputs": [
    {
     "name": "stdout",
     "output_type": "stream",
     "text": [
      "Inside foo\n",
      "inside bar\n"
     ]
    }
   ],
   "source": [
    "b = foo()\n",
    "b()"
   ]
  },
  {
   "cell_type": "code",
   "execution_count": 52,
   "metadata": {},
   "outputs": [
    {
     "name": "stdout",
     "output_type": "stream",
     "text": [
      "3000\n"
     ]
    }
   ],
   "source": [
    "## python detects recursion depth and will cause RecursionError attributes\n",
    "import sys\n",
    "print(sys.getrecursionlimit())"
   ]
  },
  {
   "cell_type": "code",
   "execution_count": 384,
   "metadata": {},
   "outputs": [],
   "source": [
    "## pythonic way is not good to call recursion. \n",
    "# people who use goto statement should be criminially punished.\n",
    "# to iterate a human, recursion means people think like God.\n",
    "\n",
    "## python hurts redability so dont use recursion.\n",
    "# cpyhon -> core python\n",
    "\n",
    "\n",
    "## Encapsulation is not for classses, it can be done using methods.\n",
    "# but for classes are for instantiating multiple objects. \n",
    "# In classes it can have initial values etc and store the state of the object.\n"
   ]
  },
  {
   "cell_type": "code",
   "execution_count": 386,
   "metadata": {},
   "outputs": [
    {
     "name": "stdout",
     "output_type": "stream",
     "text": [
      "In foo a = 200\n"
     ]
    }
   ],
   "source": [
    "a = 100\n",
    "\n",
    "def foo():\n",
    "    a = 200\n",
    "    def bar():\n",
    "        print(\"In foo a =\", a)\n",
    "    bar()\n",
    "foo()\n",
    "    "
   ]
  },
  {
   "cell_type": "code",
   "execution_count": 387,
   "metadata": {},
   "outputs": [
    {
     "name": "stdout",
     "output_type": "stream",
     "text": [
      "In foo a = 200\n"
     ]
    }
   ],
   "source": [
    "a = 100\n",
    "\n",
    "def foo():\n",
    "    a = 200\n",
    "    def bar():\n",
    "        print(\"In foo a =\", a)\n",
    "    return bar                           ## bar is inheriting the scope of foo() -> since bar is not destroyed and since it is having a reference and it is having a reference to foo frame so foo locals are not destroyed. So this happens\n",
    "\n",
    "b = foo()\n",
    "b()"
   ]
  },
  {
   "cell_type": "code",
   "execution_count": 391,
   "metadata": {},
   "outputs": [],
   "source": [
    "## encapsulation from functions.\n",
    "## with accessor patterns -> we now have accessors methods. \n",
    "## this is an e.g. of encapsulation\n",
    "def company():\n",
    "    staff = set()\n",
    "    \n",
    "    def hire(m):\n",
    "        staff.add(m)\n",
    "    \n",
    "    def fire(m):\n",
    "        staff.remove(m)\n",
    "    \n",
    "    def roster():\n",
    "        print(staff)\n",
    "        \n",
    "    return hire, fire, roster\n"
   ]
  },
  {
   "cell_type": "code",
   "execution_count": 392,
   "metadata": {},
   "outputs": [],
   "source": [
    "h, f, r = company()\n",
    "h(\"Adrian\")\n",
    "h(\"Jane\")\n",
    "h(\"mary\")"
   ]
  },
  {
   "cell_type": "code",
   "execution_count": 393,
   "metadata": {},
   "outputs": [
    {
     "name": "stdout",
     "output_type": "stream",
     "text": [
      "{'Jane', 'mary', 'Adrian'}\n"
     ]
    }
   ],
   "source": [
    "r()\n"
   ]
  },
  {
   "cell_type": "code",
   "execution_count": 394,
   "metadata": {},
   "outputs": [],
   "source": [
    "f(\"mary\")"
   ]
  },
  {
   "cell_type": "code",
   "execution_count": 395,
   "metadata": {},
   "outputs": [
    {
     "name": "stdout",
     "output_type": "stream",
     "text": [
      "{'Jane', 'Adrian'}\n"
     ]
    }
   ],
   "source": [
    "r()"
   ]
  },
  {
   "cell_type": "code",
   "execution_count": 56,
   "metadata": {},
   "outputs": [],
   "source": [
    "## to make them group together\n",
    "## we should use class based approach.\n",
    "# PEP8 -> python enhancement proposal\n",
    "\n",
    "# these methofs inside __init__ are singleton instance methods\n",
    "class company:\n",
    "    \n",
    "    def __init__(self):\n",
    "        staff = set()\n",
    "    \n",
    "        def hire(m):\n",
    "            staff.add(m)\n",
    "    \n",
    "        def fire(m):\n",
    "            staff.remove(m)\n",
    "    \n",
    "        def roster():\n",
    "            print(staff)\n",
    "        \n",
    "        self.hire, self.fire, self.roster = hire, fire, roster"
   ]
  },
  {
   "cell_type": "code",
   "execution_count": 57,
   "metadata": {},
   "outputs": [],
   "source": [
    "c = company()"
   ]
  },
  {
   "cell_type": "code",
   "execution_count": 58,
   "metadata": {},
   "outputs": [
    {
     "data": {
      "text/plain": [
       "['__class__',\n",
       " '__delattr__',\n",
       " '__dict__',\n",
       " '__dir__',\n",
       " '__doc__',\n",
       " '__eq__',\n",
       " '__format__',\n",
       " '__ge__',\n",
       " '__getattribute__',\n",
       " '__gt__',\n",
       " '__hash__',\n",
       " '__init__',\n",
       " '__init_subclass__',\n",
       " '__le__',\n",
       " '__lt__',\n",
       " '__module__',\n",
       " '__ne__',\n",
       " '__new__',\n",
       " '__reduce__',\n",
       " '__reduce_ex__',\n",
       " '__repr__',\n",
       " '__setattr__',\n",
       " '__sizeof__',\n",
       " '__str__',\n",
       " '__subclasshook__',\n",
       " '__weakref__']"
      ]
     },
     "execution_count": 58,
     "metadata": {},
     "output_type": "execute_result"
    }
   ],
   "source": [
    "## when we lookup dir(company), nothing will come like hire, fire etc. \n",
    "# but dir(c) will give those.\n",
    "dir(company)"
   ]
  },
  {
   "cell_type": "code",
   "execution_count": 59,
   "metadata": {},
   "outputs": [
    {
     "data": {
      "text/plain": [
       "['__class__',\n",
       " '__delattr__',\n",
       " '__dict__',\n",
       " '__dir__',\n",
       " '__doc__',\n",
       " '__eq__',\n",
       " '__format__',\n",
       " '__ge__',\n",
       " '__getattribute__',\n",
       " '__gt__',\n",
       " '__hash__',\n",
       " '__init__',\n",
       " '__init_subclass__',\n",
       " '__le__',\n",
       " '__lt__',\n",
       " '__module__',\n",
       " '__ne__',\n",
       " '__new__',\n",
       " '__reduce__',\n",
       " '__reduce_ex__',\n",
       " '__repr__',\n",
       " '__setattr__',\n",
       " '__sizeof__',\n",
       " '__str__',\n",
       " '__subclasshook__',\n",
       " '__weakref__',\n",
       " 'fire',\n",
       " 'hire',\n",
       " 'roster']"
      ]
     },
     "execution_count": 59,
     "metadata": {},
     "output_type": "execute_result"
    }
   ],
   "source": [
    "c = company()\n",
    "dir(c)     ## only visible in c"
   ]
  },
  {
   "cell_type": "code",
   "execution_count": 407,
   "metadata": {},
   "outputs": [],
   "source": [
    "## Facade  pattern.\n",
    "# until we open the given object we dont know what object is and how it can behave. \n",
    "# \n",
    "\n",
    "\n",
    "## Example :-\n",
    "# u = User()\n",
    "# dir(u) -> only \"login\"\n",
    "# u.login(\"John\", \"password\") --> this will login\n",
    "# dir(u) -> only \"logout\" -> now the attributes have changed.\n",
    "# u.logout()\n",
    "# dir(u) -> again \"login\" attribute only.\n",
    "\n",
    "# u.login(\"root\", \"password\")\n",
    "# dir(u) -> ['add', 'logout', 'remove'] --> now  object transformed itself based on what methods were called => e.g. of Facade pattern\n",
    "# u.logout()\n",
    "# dir(u) -> ['login']\n",
    "\n",
    "# based on what methods are called -> state of the object changes.\n",
    "\n",
    "## __getattr__ will be called when the attribute is not defined. \n",
    "\n",
    "# __dir__ method is called with dir() method is called.\n"
   ]
  },
  {
   "cell_type": "code",
   "execution_count": 408,
   "metadata": {},
   "outputs": [
    {
     "ename": "NameError",
     "evalue": "name 'list_directory' is not defined",
     "output_type": "error",
     "traceback": [
      "\u001b[1;31m---------------------------------------------------------------------------\u001b[0m",
      "\u001b[1;31mNameError\u001b[0m                                 Traceback (most recent call last)",
      "\u001b[1;32m<ipython-input-408-b5ab8323a50c>\u001b[0m in \u001b[0;36m<module>\u001b[1;34m()\u001b[0m\n\u001b[0;32m      1\u001b[0m commands = {\n\u001b[1;32m----> 2\u001b[1;33m     \u001b[1;34m\"list\"\u001b[0m\u001b[1;33m:\u001b[0m \u001b[0mlist_directory\u001b[0m\u001b[1;33m,\u001b[0m\u001b[1;33m\u001b[0m\u001b[0m\n\u001b[0m\u001b[0;32m      3\u001b[0m     \u001b[1;34m\"whoami\"\u001b[0m\u001b[1;33m:\u001b[0m \u001b[0mshow_user\u001b[0m\u001b[1;33m,\u001b[0m\u001b[1;33m\u001b[0m\u001b[0m\n\u001b[0;32m      4\u001b[0m     \u001b[1;34m\"date\"\u001b[0m\u001b[1;33m:\u001b[0m \u001b[0mprint_date\u001b[0m\u001b[1;33m,\u001b[0m\u001b[1;33m\u001b[0m\u001b[0m\n\u001b[0;32m      5\u001b[0m }\n",
      "\u001b[1;31mNameError\u001b[0m: name 'list_directory' is not defined"
     ]
    }
   ],
   "source": [
    "# commands = {\n",
    "#    \"list\": list_directory,\n",
    "#    \"whoami\": show_user,\n",
    "#    \"date\": print_date,\n",
    "#}\n",
    "\n",
    "## excercise is a design pattern -> delegation pattern. \n",
    "# the controller is a command pattern. \n",
    "\n",
    "# qustions ?\n",
    "## get will \n",
    "# setdefault\n",
    "\n",
    "### implementation\n",
    "# args = command.split()\n",
    "# commands.get(args[0], invalid_command)(*args)"
   ]
  },
  {
   "cell_type": "code",
   "execution_count": null,
   "metadata": {},
   "outputs": [],
   "source": [
    "# *args, **kwargs\n",
    "# staticmethod, @classmethod - (both obj, class can call both types of methods -> only argument matters, in static n org is collected, and class everytime class is a argument)\n",
    "# how does for loop works - required __getattr__-__len__ /__next__ - __iter__/ (checks via hasattr)\n",
    "# what is __dict__, __dir__\n",
    "# [] -> calls __getitem__\n",
    "# encapsulation within functions\n",
    "# fascade patter\n",
    "# accessors (__getattr__, __setattr__)\n",
    "# context management __enter__ -> __exit__ -> with keyword\n",
    "# id  function\n",
    "# basic python classes\n",
    "# lambda x: x*x \n",
    "# %timeit"
   ]
  }
 ],
 "metadata": {
  "kernelspec": {
   "display_name": "Python 3",
   "language": "python",
   "name": "python3"
  },
  "language_info": {
   "codemirror_mode": {
    "name": "ipython",
    "version": 3
   },
   "file_extension": ".py",
   "mimetype": "text/x-python",
   "name": "python",
   "nbconvert_exporter": "python",
   "pygments_lexer": "ipython3",
   "version": "3.6.0"
  }
 },
 "nbformat": 4,
 "nbformat_minor": 2
}
